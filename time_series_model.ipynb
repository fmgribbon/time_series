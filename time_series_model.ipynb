{
 "cells": [
  {
   "cell_type": "code",
   "execution_count": 1,
   "metadata": {},
   "outputs": [],
   "source": [
    "import pandas as pd\n",
    "import numpy as np\n",
    "%matplotlib inline\n",
    "from pathlib import Path\n",
    "import seaborn as sns\n",
    "from sklearn.linear_model import LinearRegression\n",
    "import matplotlib.pyplot as plt\n",
    "import datetime as dt\n",
    "\n"
   ]
  },
  {
   "cell_type": "code",
   "execution_count": 2,
   "metadata": {},
   "outputs": [
    {
     "data": {
      "text/html": [
       "<div>\n",
       "<style scoped>\n",
       "    .dataframe tbody tr th:only-of-type {\n",
       "        vertical-align: middle;\n",
       "    }\n",
       "\n",
       "    .dataframe tbody tr th {\n",
       "        vertical-align: top;\n",
       "    }\n",
       "\n",
       "    .dataframe thead th {\n",
       "        text-align: right;\n",
       "    }\n",
       "</style>\n",
       "<table border=\"1\" class=\"dataframe\">\n",
       "  <thead>\n",
       "    <tr style=\"text-align: right;\">\n",
       "      <th></th>\n",
       "      <th>date</th>\n",
       "      <th>vendor_id</th>\n",
       "      <th>item_id</th>\n",
       "      <th>item_price</th>\n",
       "      <th>item_cnt_day</th>\n",
       "    </tr>\n",
       "  </thead>\n",
       "  <tbody>\n",
       "    <tr>\n",
       "      <th>0</th>\n",
       "      <td>02.01.2013</td>\n",
       "      <td>59</td>\n",
       "      <td>22154</td>\n",
       "      <td>999.00</td>\n",
       "      <td>1.0</td>\n",
       "    </tr>\n",
       "    <tr>\n",
       "      <th>1</th>\n",
       "      <td>03.01.2013</td>\n",
       "      <td>25</td>\n",
       "      <td>2552</td>\n",
       "      <td>899.00</td>\n",
       "      <td>1.0</td>\n",
       "    </tr>\n",
       "    <tr>\n",
       "      <th>2</th>\n",
       "      <td>05.01.2013</td>\n",
       "      <td>25</td>\n",
       "      <td>2552</td>\n",
       "      <td>899.00</td>\n",
       "      <td>-1.0</td>\n",
       "    </tr>\n",
       "    <tr>\n",
       "      <th>3</th>\n",
       "      <td>06.01.2013</td>\n",
       "      <td>25</td>\n",
       "      <td>2554</td>\n",
       "      <td>1709.05</td>\n",
       "      <td>1.0</td>\n",
       "    </tr>\n",
       "    <tr>\n",
       "      <th>4</th>\n",
       "      <td>15.01.2013</td>\n",
       "      <td>25</td>\n",
       "      <td>2555</td>\n",
       "      <td>1099.00</td>\n",
       "      <td>1.0</td>\n",
       "    </tr>\n",
       "    <tr>\n",
       "      <th>5</th>\n",
       "      <td>10.01.2013</td>\n",
       "      <td>25</td>\n",
       "      <td>2564</td>\n",
       "      <td>349.00</td>\n",
       "      <td>1.0</td>\n",
       "    </tr>\n",
       "    <tr>\n",
       "      <th>6</th>\n",
       "      <td>02.01.2013</td>\n",
       "      <td>25</td>\n",
       "      <td>2565</td>\n",
       "      <td>549.00</td>\n",
       "      <td>1.0</td>\n",
       "    </tr>\n",
       "    <tr>\n",
       "      <th>7</th>\n",
       "      <td>04.01.2013</td>\n",
       "      <td>25</td>\n",
       "      <td>2572</td>\n",
       "      <td>239.00</td>\n",
       "      <td>1.0</td>\n",
       "    </tr>\n",
       "    <tr>\n",
       "      <th>8</th>\n",
       "      <td>11.01.2013</td>\n",
       "      <td>25</td>\n",
       "      <td>2572</td>\n",
       "      <td>299.00</td>\n",
       "      <td>1.0</td>\n",
       "    </tr>\n",
       "    <tr>\n",
       "      <th>9</th>\n",
       "      <td>03.01.2013</td>\n",
       "      <td>25</td>\n",
       "      <td>2573</td>\n",
       "      <td>299.00</td>\n",
       "      <td>3.0</td>\n",
       "    </tr>\n",
       "    <tr>\n",
       "      <th>10</th>\n",
       "      <td>03.01.2013</td>\n",
       "      <td>25</td>\n",
       "      <td>2574</td>\n",
       "      <td>399.00</td>\n",
       "      <td>2.0</td>\n",
       "    </tr>\n",
       "    <tr>\n",
       "      <th>11</th>\n",
       "      <td>05.01.2013</td>\n",
       "      <td>25</td>\n",
       "      <td>2574</td>\n",
       "      <td>399.00</td>\n",
       "      <td>1.0</td>\n",
       "    </tr>\n",
       "    <tr>\n",
       "      <th>12</th>\n",
       "      <td>07.01.2013</td>\n",
       "      <td>25</td>\n",
       "      <td>2574</td>\n",
       "      <td>399.00</td>\n",
       "      <td>1.0</td>\n",
       "    </tr>\n",
       "    <tr>\n",
       "      <th>13</th>\n",
       "      <td>08.01.2013</td>\n",
       "      <td>25</td>\n",
       "      <td>2574</td>\n",
       "      <td>399.00</td>\n",
       "      <td>2.0</td>\n",
       "    </tr>\n",
       "    <tr>\n",
       "      <th>14</th>\n",
       "      <td>10.01.2013</td>\n",
       "      <td>25</td>\n",
       "      <td>2574</td>\n",
       "      <td>399.00</td>\n",
       "      <td>1.0</td>\n",
       "    </tr>\n",
       "    <tr>\n",
       "      <th>15</th>\n",
       "      <td>11.01.2013</td>\n",
       "      <td>25</td>\n",
       "      <td>2574</td>\n",
       "      <td>399.00</td>\n",
       "      <td>2.0</td>\n",
       "    </tr>\n",
       "    <tr>\n",
       "      <th>16</th>\n",
       "      <td>13.01.2013</td>\n",
       "      <td>25</td>\n",
       "      <td>2574</td>\n",
       "      <td>399.00</td>\n",
       "      <td>1.0</td>\n",
       "    </tr>\n",
       "    <tr>\n",
       "      <th>17</th>\n",
       "      <td>16.01.2013</td>\n",
       "      <td>25</td>\n",
       "      <td>2574</td>\n",
       "      <td>399.00</td>\n",
       "      <td>1.0</td>\n",
       "    </tr>\n",
       "    <tr>\n",
       "      <th>18</th>\n",
       "      <td>26.01.2013</td>\n",
       "      <td>25</td>\n",
       "      <td>2574</td>\n",
       "      <td>399.00</td>\n",
       "      <td>1.0</td>\n",
       "    </tr>\n",
       "    <tr>\n",
       "      <th>19</th>\n",
       "      <td>27.01.2013</td>\n",
       "      <td>25</td>\n",
       "      <td>2574</td>\n",
       "      <td>399.00</td>\n",
       "      <td>1.0</td>\n",
       "    </tr>\n",
       "  </tbody>\n",
       "</table>\n",
       "</div>"
      ],
      "text/plain": [
       "          date  vendor_id  item_id  item_price  item_cnt_day\n",
       "0   02.01.2013         59    22154      999.00           1.0\n",
       "1   03.01.2013         25     2552      899.00           1.0\n",
       "2   05.01.2013         25     2552      899.00          -1.0\n",
       "3   06.01.2013         25     2554     1709.05           1.0\n",
       "4   15.01.2013         25     2555     1099.00           1.0\n",
       "5   10.01.2013         25     2564      349.00           1.0\n",
       "6   02.01.2013         25     2565      549.00           1.0\n",
       "7   04.01.2013         25     2572      239.00           1.0\n",
       "8   11.01.2013         25     2572      299.00           1.0\n",
       "9   03.01.2013         25     2573      299.00           3.0\n",
       "10  03.01.2013         25     2574      399.00           2.0\n",
       "11  05.01.2013         25     2574      399.00           1.0\n",
       "12  07.01.2013         25     2574      399.00           1.0\n",
       "13  08.01.2013         25     2574      399.00           2.0\n",
       "14  10.01.2013         25     2574      399.00           1.0\n",
       "15  11.01.2013         25     2574      399.00           2.0\n",
       "16  13.01.2013         25     2574      399.00           1.0\n",
       "17  16.01.2013         25     2574      399.00           1.0\n",
       "18  26.01.2013         25     2574      399.00           1.0\n",
       "19  27.01.2013         25     2574      399.00           1.0"
      ]
     },
     "execution_count": 2,
     "metadata": {},
     "output_type": "execute_result"
    }
   ],
   "source": [
    "\n",
    "#Read and load csv files \n",
    "file_path = Path(\"resources/dataset.csv\")\n",
    "df = pd.read_csv(file_path, sep = ',')\n",
    "df.head(20)\n",
    "\n"
   ]
  },
  {
   "cell_type": "code",
   "execution_count": 3,
   "metadata": {},
   "outputs": [
    {
     "name": "stdout",
     "output_type": "stream",
     "text": [
      "<class 'pandas.core.frame.DataFrame'>\n",
      "RangeIndex: 2935849 entries, 0 to 2935848\n",
      "Data columns (total 5 columns):\n",
      " #   Column        Dtype         \n",
      "---  ------        -----         \n",
      " 0   date          datetime64[ns]\n",
      " 1   vendor_id     int64         \n",
      " 2   item_id       int64         \n",
      " 3   item_price    float64       \n",
      " 4   item_cnt_day  float64       \n",
      "dtypes: datetime64[ns](1), float64(2), int64(2)\n",
      "memory usage: 112.0 MB\n"
     ]
    }
   ],
   "source": [
    "# convert date to date format yyyy-mm-dd\n",
    "df[\"date\"] = pd.to_datetime(df['date'],dayfirst=True)\n",
    "df.info()"
   ]
  },
  {
   "cell_type": "code",
   "execution_count": 4,
   "metadata": {
    "scrolled": false
   },
   "outputs": [
    {
     "data": {
      "text/html": [
       "<div>\n",
       "<style scoped>\n",
       "    .dataframe tbody tr th:only-of-type {\n",
       "        vertical-align: middle;\n",
       "    }\n",
       "\n",
       "    .dataframe tbody tr th {\n",
       "        vertical-align: top;\n",
       "    }\n",
       "\n",
       "    .dataframe thead th {\n",
       "        text-align: right;\n",
       "    }\n",
       "</style>\n",
       "<table border=\"1\" class=\"dataframe\">\n",
       "  <thead>\n",
       "    <tr style=\"text-align: right;\">\n",
       "      <th></th>\n",
       "      <th>date</th>\n",
       "      <th>vendor_id</th>\n",
       "      <th>item_id</th>\n",
       "      <th>item_price</th>\n",
       "      <th>item_cnt_day</th>\n",
       "      <th>revenue</th>\n",
       "    </tr>\n",
       "  </thead>\n",
       "  <tbody>\n",
       "    <tr>\n",
       "      <th>0</th>\n",
       "      <td>2013-01-02</td>\n",
       "      <td>59</td>\n",
       "      <td>22154</td>\n",
       "      <td>999.00</td>\n",
       "      <td>1.0</td>\n",
       "      <td>999.00</td>\n",
       "    </tr>\n",
       "    <tr>\n",
       "      <th>1</th>\n",
       "      <td>2013-01-03</td>\n",
       "      <td>25</td>\n",
       "      <td>2552</td>\n",
       "      <td>899.00</td>\n",
       "      <td>1.0</td>\n",
       "      <td>899.00</td>\n",
       "    </tr>\n",
       "    <tr>\n",
       "      <th>2</th>\n",
       "      <td>2013-01-05</td>\n",
       "      <td>25</td>\n",
       "      <td>2552</td>\n",
       "      <td>899.00</td>\n",
       "      <td>-1.0</td>\n",
       "      <td>-899.00</td>\n",
       "    </tr>\n",
       "    <tr>\n",
       "      <th>3</th>\n",
       "      <td>2013-01-06</td>\n",
       "      <td>25</td>\n",
       "      <td>2554</td>\n",
       "      <td>1709.05</td>\n",
       "      <td>1.0</td>\n",
       "      <td>1709.05</td>\n",
       "    </tr>\n",
       "    <tr>\n",
       "      <th>4</th>\n",
       "      <td>2013-01-15</td>\n",
       "      <td>25</td>\n",
       "      <td>2555</td>\n",
       "      <td>1099.00</td>\n",
       "      <td>1.0</td>\n",
       "      <td>1099.00</td>\n",
       "    </tr>\n",
       "    <tr>\n",
       "      <th>5</th>\n",
       "      <td>2013-01-10</td>\n",
       "      <td>25</td>\n",
       "      <td>2564</td>\n",
       "      <td>349.00</td>\n",
       "      <td>1.0</td>\n",
       "      <td>349.00</td>\n",
       "    </tr>\n",
       "    <tr>\n",
       "      <th>6</th>\n",
       "      <td>2013-01-02</td>\n",
       "      <td>25</td>\n",
       "      <td>2565</td>\n",
       "      <td>549.00</td>\n",
       "      <td>1.0</td>\n",
       "      <td>549.00</td>\n",
       "    </tr>\n",
       "    <tr>\n",
       "      <th>7</th>\n",
       "      <td>2013-01-04</td>\n",
       "      <td>25</td>\n",
       "      <td>2572</td>\n",
       "      <td>239.00</td>\n",
       "      <td>1.0</td>\n",
       "      <td>239.00</td>\n",
       "    </tr>\n",
       "    <tr>\n",
       "      <th>8</th>\n",
       "      <td>2013-01-11</td>\n",
       "      <td>25</td>\n",
       "      <td>2572</td>\n",
       "      <td>299.00</td>\n",
       "      <td>1.0</td>\n",
       "      <td>299.00</td>\n",
       "    </tr>\n",
       "    <tr>\n",
       "      <th>9</th>\n",
       "      <td>2013-01-03</td>\n",
       "      <td>25</td>\n",
       "      <td>2573</td>\n",
       "      <td>299.00</td>\n",
       "      <td>3.0</td>\n",
       "      <td>897.00</td>\n",
       "    </tr>\n",
       "    <tr>\n",
       "      <th>10</th>\n",
       "      <td>2013-01-03</td>\n",
       "      <td>25</td>\n",
       "      <td>2574</td>\n",
       "      <td>399.00</td>\n",
       "      <td>2.0</td>\n",
       "      <td>798.00</td>\n",
       "    </tr>\n",
       "    <tr>\n",
       "      <th>11</th>\n",
       "      <td>2013-01-05</td>\n",
       "      <td>25</td>\n",
       "      <td>2574</td>\n",
       "      <td>399.00</td>\n",
       "      <td>1.0</td>\n",
       "      <td>399.00</td>\n",
       "    </tr>\n",
       "    <tr>\n",
       "      <th>12</th>\n",
       "      <td>2013-01-07</td>\n",
       "      <td>25</td>\n",
       "      <td>2574</td>\n",
       "      <td>399.00</td>\n",
       "      <td>1.0</td>\n",
       "      <td>399.00</td>\n",
       "    </tr>\n",
       "    <tr>\n",
       "      <th>13</th>\n",
       "      <td>2013-01-08</td>\n",
       "      <td>25</td>\n",
       "      <td>2574</td>\n",
       "      <td>399.00</td>\n",
       "      <td>2.0</td>\n",
       "      <td>798.00</td>\n",
       "    </tr>\n",
       "    <tr>\n",
       "      <th>14</th>\n",
       "      <td>2013-01-10</td>\n",
       "      <td>25</td>\n",
       "      <td>2574</td>\n",
       "      <td>399.00</td>\n",
       "      <td>1.0</td>\n",
       "      <td>399.00</td>\n",
       "    </tr>\n",
       "    <tr>\n",
       "      <th>15</th>\n",
       "      <td>2013-01-11</td>\n",
       "      <td>25</td>\n",
       "      <td>2574</td>\n",
       "      <td>399.00</td>\n",
       "      <td>2.0</td>\n",
       "      <td>798.00</td>\n",
       "    </tr>\n",
       "    <tr>\n",
       "      <th>16</th>\n",
       "      <td>2013-01-13</td>\n",
       "      <td>25</td>\n",
       "      <td>2574</td>\n",
       "      <td>399.00</td>\n",
       "      <td>1.0</td>\n",
       "      <td>399.00</td>\n",
       "    </tr>\n",
       "    <tr>\n",
       "      <th>17</th>\n",
       "      <td>2013-01-16</td>\n",
       "      <td>25</td>\n",
       "      <td>2574</td>\n",
       "      <td>399.00</td>\n",
       "      <td>1.0</td>\n",
       "      <td>399.00</td>\n",
       "    </tr>\n",
       "    <tr>\n",
       "      <th>18</th>\n",
       "      <td>2013-01-26</td>\n",
       "      <td>25</td>\n",
       "      <td>2574</td>\n",
       "      <td>399.00</td>\n",
       "      <td>1.0</td>\n",
       "      <td>399.00</td>\n",
       "    </tr>\n",
       "    <tr>\n",
       "      <th>19</th>\n",
       "      <td>2013-01-27</td>\n",
       "      <td>25</td>\n",
       "      <td>2574</td>\n",
       "      <td>399.00</td>\n",
       "      <td>1.0</td>\n",
       "      <td>399.00</td>\n",
       "    </tr>\n",
       "  </tbody>\n",
       "</table>\n",
       "</div>"
      ],
      "text/plain": [
       "         date  vendor_id  item_id  item_price  item_cnt_day  revenue\n",
       "0  2013-01-02         59    22154      999.00           1.0   999.00\n",
       "1  2013-01-03         25     2552      899.00           1.0   899.00\n",
       "2  2013-01-05         25     2552      899.00          -1.0  -899.00\n",
       "3  2013-01-06         25     2554     1709.05           1.0  1709.05\n",
       "4  2013-01-15         25     2555     1099.00           1.0  1099.00\n",
       "5  2013-01-10         25     2564      349.00           1.0   349.00\n",
       "6  2013-01-02         25     2565      549.00           1.0   549.00\n",
       "7  2013-01-04         25     2572      239.00           1.0   239.00\n",
       "8  2013-01-11         25     2572      299.00           1.0   299.00\n",
       "9  2013-01-03         25     2573      299.00           3.0   897.00\n",
       "10 2013-01-03         25     2574      399.00           2.0   798.00\n",
       "11 2013-01-05         25     2574      399.00           1.0   399.00\n",
       "12 2013-01-07         25     2574      399.00           1.0   399.00\n",
       "13 2013-01-08         25     2574      399.00           2.0   798.00\n",
       "14 2013-01-10         25     2574      399.00           1.0   399.00\n",
       "15 2013-01-11         25     2574      399.00           2.0   798.00\n",
       "16 2013-01-13         25     2574      399.00           1.0   399.00\n",
       "17 2013-01-16         25     2574      399.00           1.0   399.00\n",
       "18 2013-01-26         25     2574      399.00           1.0   399.00\n",
       "19 2013-01-27         25     2574      399.00           1.0   399.00"
      ]
     },
     "execution_count": 4,
     "metadata": {},
     "output_type": "execute_result"
    }
   ],
   "source": [
    "df[\"revenue\"] = (df['item_price'] * df['item_cnt_day'])\n",
    "df.head(20)"
   ]
  },
  {
   "cell_type": "code",
   "execution_count": 5,
   "metadata": {},
   "outputs": [
    {
     "data": {
      "text/html": [
       "<div>\n",
       "<style scoped>\n",
       "    .dataframe tbody tr th:only-of-type {\n",
       "        vertical-align: middle;\n",
       "    }\n",
       "\n",
       "    .dataframe tbody tr th {\n",
       "        vertical-align: top;\n",
       "    }\n",
       "\n",
       "    .dataframe thead th {\n",
       "        text-align: right;\n",
       "    }\n",
       "</style>\n",
       "<table border=\"1\" class=\"dataframe\">\n",
       "  <thead>\n",
       "    <tr style=\"text-align: right;\">\n",
       "      <th></th>\n",
       "      <th>vendor_id</th>\n",
       "      <th>item_id</th>\n",
       "      <th>item_price</th>\n",
       "      <th>item_cnt_day</th>\n",
       "      <th>revenue</th>\n",
       "    </tr>\n",
       "  </thead>\n",
       "  <tbody>\n",
       "    <tr>\n",
       "      <th>count</th>\n",
       "      <td>421740.000000</td>\n",
       "      <td>421740.000000</td>\n",
       "      <td>421740.000000</td>\n",
       "      <td>421740.000000</td>\n",
       "      <td>4.217400e+05</td>\n",
       "    </tr>\n",
       "    <tr>\n",
       "      <th>mean</th>\n",
       "      <td>28.352340</td>\n",
       "      <td>10981.925122</td>\n",
       "      <td>773.749202</td>\n",
       "      <td>1.310516</td>\n",
       "      <td>1.071033e+03</td>\n",
       "    </tr>\n",
       "    <tr>\n",
       "      <th>std</th>\n",
       "      <td>2.979241</td>\n",
       "      <td>6214.530320</td>\n",
       "      <td>1450.502815</td>\n",
       "      <td>2.346572</td>\n",
       "      <td>5.815128e+03</td>\n",
       "    </tr>\n",
       "    <tr>\n",
       "      <th>min</th>\n",
       "      <td>25.000000</td>\n",
       "      <td>18.000000</td>\n",
       "      <td>0.100000</td>\n",
       "      <td>-2.000000</td>\n",
       "      <td>-2.799000e+04</td>\n",
       "    </tr>\n",
       "    <tr>\n",
       "      <th>25%</th>\n",
       "      <td>25.000000</td>\n",
       "      <td>5380.000000</td>\n",
       "      <td>229.000000</td>\n",
       "      <td>1.000000</td>\n",
       "      <td>2.490000e+02</td>\n",
       "    </tr>\n",
       "    <tr>\n",
       "      <th>50%</th>\n",
       "      <td>31.000000</td>\n",
       "      <td>11068.000000</td>\n",
       "      <td>399.000000</td>\n",
       "      <td>1.000000</td>\n",
       "      <td>3.990000e+02</td>\n",
       "    </tr>\n",
       "    <tr>\n",
       "      <th>75%</th>\n",
       "      <td>31.000000</td>\n",
       "      <td>16175.000000</td>\n",
       "      <td>799.000000</td>\n",
       "      <td>1.000000</td>\n",
       "      <td>9.990000e+02</td>\n",
       "    </tr>\n",
       "    <tr>\n",
       "      <th>max</th>\n",
       "      <td>31.000000</td>\n",
       "      <td>22169.000000</td>\n",
       "      <td>50999.000000</td>\n",
       "      <td>501.000000</td>\n",
       "      <td>1.642100e+06</td>\n",
       "    </tr>\n",
       "  </tbody>\n",
       "</table>\n",
       "</div>"
      ],
      "text/plain": [
       "           vendor_id        item_id     item_price   item_cnt_day  \\\n",
       "count  421740.000000  421740.000000  421740.000000  421740.000000   \n",
       "mean       28.352340   10981.925122     773.749202       1.310516   \n",
       "std         2.979241    6214.530320    1450.502815       2.346572   \n",
       "min        25.000000      18.000000       0.100000      -2.000000   \n",
       "25%        25.000000    5380.000000     229.000000       1.000000   \n",
       "50%        31.000000   11068.000000     399.000000       1.000000   \n",
       "75%        31.000000   16175.000000     799.000000       1.000000   \n",
       "max        31.000000   22169.000000   50999.000000     501.000000   \n",
       "\n",
       "            revenue  \n",
       "count  4.217400e+05  \n",
       "mean   1.071033e+03  \n",
       "std    5.815128e+03  \n",
       "min   -2.799000e+04  \n",
       "25%    2.490000e+02  \n",
       "50%    3.990000e+02  \n",
       "75%    9.990000e+02  \n",
       "max    1.642100e+06  "
      ]
     },
     "execution_count": 5,
     "metadata": {},
     "output_type": "execute_result"
    }
   ],
   "source": [
    "#filter_vendor_id = (df[\"vendor_id\"] == 25 | df[\"vendor_id\"] == 31)\n",
    "vendor25_31_df = df.loc[(df[\"vendor_id\"] == 25) | (df[\"vendor_id\"] == 31)]\n",
    "vendor25_31_df\n",
    "\n",
    "vendor25_31_df.describe()"
   ]
  },
  {
   "cell_type": "code",
   "execution_count": 6,
   "metadata": {},
   "outputs": [
    {
     "data": {
      "text/plain": [
       "True     421738\n",
       "False         2\n",
       "dtype: int64"
      ]
     },
     "execution_count": 6,
     "metadata": {},
     "output_type": "execute_result"
    }
   ],
   "source": [
    "#Check for duplicates\n",
    "vendor25_31_df.duplicated(subset=['vendor_id']).value_counts()"
   ]
  },
  {
   "cell_type": "code",
   "execution_count": 7,
   "metadata": {},
   "outputs": [
    {
     "data": {
      "text/plain": [
       "date            0\n",
       "vendor_id       0\n",
       "item_id         0\n",
       "item_price      0\n",
       "item_cnt_day    0\n",
       "revenue         0\n",
       "dtype: int64"
      ]
     },
     "execution_count": 7,
     "metadata": {},
     "output_type": "execute_result"
    }
   ],
   "source": [
    "# Check for null values\n",
    "vendor25_31_df.isna().sum()"
   ]
  },
  {
   "cell_type": "code",
   "execution_count": 8,
   "metadata": {},
   "outputs": [
    {
     "data": {
      "text/plain": [
       "date            datetime64[ns]\n",
       "vendor_id                int64\n",
       "item_id                  int64\n",
       "item_price             float64\n",
       "item_cnt_day           float64\n",
       "revenue                float64\n",
       "dtype: object"
      ]
     },
     "execution_count": 8,
     "metadata": {},
     "output_type": "execute_result"
    }
   ],
   "source": [
    "#check data types\n",
    "vendor25_31_df.dtypes"
   ]
  },
  {
   "cell_type": "code",
   "execution_count": 9,
   "metadata": {},
   "outputs": [
    {
     "data": {
      "text/plain": [
       "31    235636\n",
       "25    186104\n",
       "Name: vendor_id, dtype: int64"
      ]
     },
     "execution_count": 9,
     "metadata": {},
     "output_type": "execute_result"
    }
   ],
   "source": [
    "# Vendor_id frequency\n",
    "vendor25_31_df['vendor_id'].value_counts()"
   ]
  },
  {
   "cell_type": "code",
   "execution_count": 10,
   "metadata": {},
   "outputs": [
    {
     "data": {
      "text/plain": [
       "20949    1663\n",
       "5822      973\n",
       "17717     766\n",
       "7894      683\n",
       "2808      665\n",
       "         ... \n",
       "15726       1\n",
       "18565       1\n",
       "21007       1\n",
       "14694       1\n",
       "20559       1\n",
       "Name: item_id, Length: 16480, dtype: int64"
      ]
     },
     "execution_count": 10,
     "metadata": {},
     "output_type": "execute_result"
    }
   ],
   "source": [
    "#item_id frequency\n",
    "vendor25_31_df.item_id.value_counts()"
   ]
  },
  {
   "cell_type": "code",
   "execution_count": 11,
   "metadata": {},
   "outputs": [
    {
     "name": "stdout",
     "output_type": "stream",
     "text": [
      "Total negative item_cnt_day  767\n"
     ]
    }
   ],
   "source": [
    "# Check for item count for negative values\n",
    "total_negative_values = 0\n",
    "\n",
    "for value in vendor25_31_df['item_cnt_day']:\n",
    "    if value < 0:\n",
    "        total_negative_values += 1\n",
    "print (f\"Total negative item_cnt_day  {total_negative_values}\")   "
   ]
  },
  {
   "cell_type": "code",
   "execution_count": 12,
   "metadata": {},
   "outputs": [
    {
     "name": "stdout",
     "output_type": "stream",
     "text": [
      "Total Less than 1  item_price  0\n"
     ]
    }
   ],
   "source": [
    "# check item price for values less than 1\n",
    "total_less_than_1_values = 0\n",
    "\n",
    "for value in vendor25_31_df['item_price']:\n",
    "    if value < 0:\n",
    "        total_less_than_1_values += 1\n",
    "print (f\"Total Less than 1  item_price  {total_less_than_1_values}\")        \n"
   ]
  },
  {
   "cell_type": "markdown",
   "metadata": {},
   "source": [
    "## Create Time Series Model for Vendor 25"
   ]
  },
  {
   "cell_type": "code",
   "execution_count": 13,
   "metadata": {},
   "outputs": [
    {
     "data": {
      "text/html": [
       "<div>\n",
       "<style scoped>\n",
       "    .dataframe tbody tr th:only-of-type {\n",
       "        vertical-align: middle;\n",
       "    }\n",
       "\n",
       "    .dataframe tbody tr th {\n",
       "        vertical-align: top;\n",
       "    }\n",
       "\n",
       "    .dataframe thead th {\n",
       "        text-align: right;\n",
       "    }\n",
       "</style>\n",
       "<table border=\"1\" class=\"dataframe\">\n",
       "  <thead>\n",
       "    <tr style=\"text-align: right;\">\n",
       "      <th></th>\n",
       "      <th>date</th>\n",
       "      <th>vendor_id</th>\n",
       "      <th>item_id</th>\n",
       "      <th>item_price</th>\n",
       "      <th>item_cnt_day</th>\n",
       "      <th>revenue</th>\n",
       "    </tr>\n",
       "  </thead>\n",
       "  <tbody>\n",
       "    <tr>\n",
       "      <th>1</th>\n",
       "      <td>2013-01-03</td>\n",
       "      <td>25</td>\n",
       "      <td>2552</td>\n",
       "      <td>899.00</td>\n",
       "      <td>1.0</td>\n",
       "      <td>899.00</td>\n",
       "    </tr>\n",
       "    <tr>\n",
       "      <th>2</th>\n",
       "      <td>2013-01-05</td>\n",
       "      <td>25</td>\n",
       "      <td>2552</td>\n",
       "      <td>899.00</td>\n",
       "      <td>-1.0</td>\n",
       "      <td>-899.00</td>\n",
       "    </tr>\n",
       "    <tr>\n",
       "      <th>3</th>\n",
       "      <td>2013-01-06</td>\n",
       "      <td>25</td>\n",
       "      <td>2554</td>\n",
       "      <td>1709.05</td>\n",
       "      <td>1.0</td>\n",
       "      <td>1709.05</td>\n",
       "    </tr>\n",
       "    <tr>\n",
       "      <th>4</th>\n",
       "      <td>2013-01-15</td>\n",
       "      <td>25</td>\n",
       "      <td>2555</td>\n",
       "      <td>1099.00</td>\n",
       "      <td>1.0</td>\n",
       "      <td>1099.00</td>\n",
       "    </tr>\n",
       "    <tr>\n",
       "      <th>5</th>\n",
       "      <td>2013-01-10</td>\n",
       "      <td>25</td>\n",
       "      <td>2564</td>\n",
       "      <td>349.00</td>\n",
       "      <td>1.0</td>\n",
       "      <td>349.00</td>\n",
       "    </tr>\n",
       "    <tr>\n",
       "      <th>...</th>\n",
       "      <td>...</td>\n",
       "      <td>...</td>\n",
       "      <td>...</td>\n",
       "      <td>...</td>\n",
       "      <td>...</td>\n",
       "      <td>...</td>\n",
       "    </tr>\n",
       "    <tr>\n",
       "      <th>2935844</th>\n",
       "      <td>2015-10-10</td>\n",
       "      <td>25</td>\n",
       "      <td>7409</td>\n",
       "      <td>299.00</td>\n",
       "      <td>1.0</td>\n",
       "      <td>299.00</td>\n",
       "    </tr>\n",
       "    <tr>\n",
       "      <th>2935845</th>\n",
       "      <td>2015-10-09</td>\n",
       "      <td>25</td>\n",
       "      <td>7460</td>\n",
       "      <td>299.00</td>\n",
       "      <td>1.0</td>\n",
       "      <td>299.00</td>\n",
       "    </tr>\n",
       "    <tr>\n",
       "      <th>2935846</th>\n",
       "      <td>2015-10-14</td>\n",
       "      <td>25</td>\n",
       "      <td>7459</td>\n",
       "      <td>349.00</td>\n",
       "      <td>1.0</td>\n",
       "      <td>349.00</td>\n",
       "    </tr>\n",
       "    <tr>\n",
       "      <th>2935847</th>\n",
       "      <td>2015-10-22</td>\n",
       "      <td>25</td>\n",
       "      <td>7440</td>\n",
       "      <td>299.00</td>\n",
       "      <td>1.0</td>\n",
       "      <td>299.00</td>\n",
       "    </tr>\n",
       "    <tr>\n",
       "      <th>2935848</th>\n",
       "      <td>2015-10-03</td>\n",
       "      <td>25</td>\n",
       "      <td>7460</td>\n",
       "      <td>299.00</td>\n",
       "      <td>1.0</td>\n",
       "      <td>299.00</td>\n",
       "    </tr>\n",
       "  </tbody>\n",
       "</table>\n",
       "<p>186104 rows × 6 columns</p>\n",
       "</div>"
      ],
      "text/plain": [
       "              date  vendor_id  item_id  item_price  item_cnt_day  revenue\n",
       "1       2013-01-03         25     2552      899.00           1.0   899.00\n",
       "2       2013-01-05         25     2552      899.00          -1.0  -899.00\n",
       "3       2013-01-06         25     2554     1709.05           1.0  1709.05\n",
       "4       2013-01-15         25     2555     1099.00           1.0  1099.00\n",
       "5       2013-01-10         25     2564      349.00           1.0   349.00\n",
       "...            ...        ...      ...         ...           ...      ...\n",
       "2935844 2015-10-10         25     7409      299.00           1.0   299.00\n",
       "2935845 2015-10-09         25     7460      299.00           1.0   299.00\n",
       "2935846 2015-10-14         25     7459      349.00           1.0   349.00\n",
       "2935847 2015-10-22         25     7440      299.00           1.0   299.00\n",
       "2935848 2015-10-03         25     7460      299.00           1.0   299.00\n",
       "\n",
       "[186104 rows x 6 columns]"
      ]
     },
     "execution_count": 13,
     "metadata": {},
     "output_type": "execute_result"
    }
   ],
   "source": [
    "# Select data for vendor 25\n",
    "vendor25_df = df.loc[(df[\"vendor_id\"] == 25)]\n",
    "vendor25_df"
   ]
  },
  {
   "cell_type": "code",
   "execution_count": 14,
   "metadata": {},
   "outputs": [
    {
     "data": {
      "text/html": [
       "<div>\n",
       "<style scoped>\n",
       "    .dataframe tbody tr th:only-of-type {\n",
       "        vertical-align: middle;\n",
       "    }\n",
       "\n",
       "    .dataframe tbody tr th {\n",
       "        vertical-align: top;\n",
       "    }\n",
       "\n",
       "    .dataframe thead th {\n",
       "        text-align: right;\n",
       "    }\n",
       "</style>\n",
       "<table border=\"1\" class=\"dataframe\">\n",
       "  <thead>\n",
       "    <tr style=\"text-align: right;\">\n",
       "      <th></th>\n",
       "      <th>date</th>\n",
       "      <th>revenue</th>\n",
       "    </tr>\n",
       "  </thead>\n",
       "  <tbody>\n",
       "    <tr>\n",
       "      <th>1</th>\n",
       "      <td>2013-01-03</td>\n",
       "      <td>899.00</td>\n",
       "    </tr>\n",
       "    <tr>\n",
       "      <th>2</th>\n",
       "      <td>2013-01-05</td>\n",
       "      <td>-899.00</td>\n",
       "    </tr>\n",
       "    <tr>\n",
       "      <th>3</th>\n",
       "      <td>2013-01-06</td>\n",
       "      <td>1709.05</td>\n",
       "    </tr>\n",
       "    <tr>\n",
       "      <th>4</th>\n",
       "      <td>2013-01-15</td>\n",
       "      <td>1099.00</td>\n",
       "    </tr>\n",
       "    <tr>\n",
       "      <th>5</th>\n",
       "      <td>2013-01-10</td>\n",
       "      <td>349.00</td>\n",
       "    </tr>\n",
       "  </tbody>\n",
       "</table>\n",
       "</div>"
      ],
      "text/plain": [
       "        date  revenue\n",
       "1 2013-01-03   899.00\n",
       "2 2013-01-05  -899.00\n",
       "3 2013-01-06  1709.05\n",
       "4 2013-01-15  1099.00\n",
       "5 2013-01-10   349.00"
      ]
     },
     "execution_count": 14,
     "metadata": {},
     "output_type": "execute_result"
    }
   ],
   "source": [
    "df_25 = pd.DataFrame({\"date\" : vendor25_df[\"date\"],\n",
    "                     \"revenue\": vendor25_df[\"revenue\"]})\n",
    "df_25.head()"
   ]
  },
  {
   "cell_type": "code",
   "execution_count": 15,
   "metadata": {},
   "outputs": [
    {
     "data": {
      "text/plain": [
       "DatetimeIndex(['2013-01-03', '2013-01-05', '2013-01-06', '2013-01-15',\n",
       "               '2013-01-10', '2013-01-02', '2013-01-04', '2013-01-11',\n",
       "               '2013-01-03', '2013-01-03',\n",
       "               ...\n",
       "               '2015-10-24', '2015-10-31', '2015-10-11', '2015-10-10',\n",
       "               '2015-10-09', '2015-10-10', '2015-10-09', '2015-10-14',\n",
       "               '2015-10-22', '2015-10-03'],\n",
       "              dtype='datetime64[ns]', name='date', length=186104, freq=None)"
      ]
     },
     "execution_count": 15,
     "metadata": {},
     "output_type": "execute_result"
    }
   ],
   "source": [
    "df_25 = df_25.set_index(\"date\")\n",
    "df_25.index"
   ]
  },
  {
   "cell_type": "code",
   "execution_count": 16,
   "metadata": {},
   "outputs": [
    {
     "data": {
      "text/plain": [
       "date\n",
       "2013-01-31    5.376478e+06\n",
       "2013-02-28    5.530463e+06\n",
       "2013-03-31    6.655983e+06\n",
       "2013-04-30    4.772728e+06\n",
       "2013-05-31    4.171684e+06\n",
       "2013-06-30    5.047670e+06\n",
       "2013-07-31    3.959044e+06\n",
       "2013-08-31    4.475531e+06\n",
       "2013-09-30    7.937861e+06\n",
       "2013-10-31    6.542260e+06\n",
       "2013-11-30    8.248853e+06\n",
       "2013-12-31    1.283458e+07\n",
       "2014-01-31    5.126725e+06\n",
       "2014-02-28    5.966910e+06\n",
       "2014-03-31    6.395980e+06\n",
       "2014-04-30    4.810962e+06\n",
       "2014-05-31    5.248786e+06\n",
       "2014-06-30    5.047889e+06\n",
       "2014-07-31    4.356052e+06\n",
       "2014-08-31    4.993276e+06\n",
       "2014-09-30    6.783338e+06\n",
       "2014-10-31    6.434201e+06\n",
       "2014-11-30    9.408434e+06\n",
       "2014-12-31    1.570787e+07\n",
       "2015-01-31    6.498782e+06\n",
       "2015-02-28    5.716941e+06\n",
       "2015-03-31    6.080637e+06\n",
       "2015-04-30    6.994908e+06\n",
       "2015-05-31    6.898230e+06\n",
       "2015-06-30    4.759046e+06\n",
       "2015-07-31    4.354057e+06\n",
       "2015-08-31    4.368532e+06\n",
       "2015-09-30    7.341927e+06\n",
       "2015-10-31    7.633958e+06\n",
       "Freq: M, Name: revenue, dtype: float64"
      ]
     },
     "execution_count": 16,
     "metadata": {},
     "output_type": "execute_result"
    }
   ],
   "source": [
    "df_25 = df_25.revenue.resample('M').sum()\n",
    "df_25"
   ]
  },
  {
   "cell_type": "code",
   "execution_count": 17,
   "metadata": {},
   "outputs": [
    {
     "data": {
      "text/plain": [
       "<matplotlib.axes._subplots.AxesSubplot at 0x1f224f7c308>"
      ]
     },
     "execution_count": 17,
     "metadata": {},
     "output_type": "execute_result"
    },
    {
     "data": {
      "image/png": "[encoded data removed]",
      "text/plain": [
       "<Figure size 432x288 with 1 Axes>"
      ]
     },
     "metadata": {
      "needs_background": "light"
     },
     "output_type": "display_data"
    }
   ],
   "source": [
    "df_25.plot()"
   ]
  },
  {
   "cell_type": "code",
   "execution_count": 18,
   "metadata": {},
   "outputs": [
    {
     "data": {
      "text/plain": [
       "pandas.core.series.Series"
      ]
     },
     "execution_count": 18,
     "metadata": {},
     "output_type": "execute_result"
    }
   ],
   "source": [
    "type(df_25)"
   ]
  },
  {
   "cell_type": "code",
   "execution_count": 19,
   "metadata": {},
   "outputs": [
    {
     "data": {
      "text/plain": [
       "count    3.400000e+01\n",
       "mean     6.367076e+06\n",
       "std      2.413464e+06\n",
       "min      3.959044e+06\n",
       "25%      4.856540e+06\n",
       "50%      5.841926e+06\n",
       "75%      6.869507e+06\n",
       "max      1.570787e+07\n",
       "Name: revenue, dtype: float64"
      ]
     },
     "execution_count": 19,
     "metadata": {},
     "output_type": "execute_result"
    }
   ],
   "source": [
    "df_25.describe()"
   ]
  },
  {
   "cell_type": "code",
   "execution_count": 20,
   "metadata": {},
   "outputs": [
    {
     "data": {
      "text/html": [
       "<div>\n",
       "<style scoped>\n",
       "    .dataframe tbody tr th:only-of-type {\n",
       "        vertical-align: middle;\n",
       "    }\n",
       "\n",
       "    .dataframe tbody tr th {\n",
       "        vertical-align: top;\n",
       "    }\n",
       "\n",
       "    .dataframe thead th {\n",
       "        text-align: right;\n",
       "    }\n",
       "</style>\n",
       "<table border=\"1\" class=\"dataframe\">\n",
       "  <thead>\n",
       "    <tr style=\"text-align: right;\">\n",
       "      <th></th>\n",
       "      <th>revenue</th>\n",
       "    </tr>\n",
       "    <tr>\n",
       "      <th>date</th>\n",
       "      <th></th>\n",
       "    </tr>\n",
       "  </thead>\n",
       "  <tbody>\n",
       "    <tr>\n",
       "      <th>2013-01-31</th>\n",
       "      <td>5.376478e+06</td>\n",
       "    </tr>\n",
       "    <tr>\n",
       "      <th>2013-02-28</th>\n",
       "      <td>5.530463e+06</td>\n",
       "    </tr>\n",
       "    <tr>\n",
       "      <th>2013-03-31</th>\n",
       "      <td>6.655983e+06</td>\n",
       "    </tr>\n",
       "    <tr>\n",
       "      <th>2013-04-30</th>\n",
       "      <td>4.772728e+06</td>\n",
       "    </tr>\n",
       "    <tr>\n",
       "      <th>2013-05-31</th>\n",
       "      <td>4.171684e+06</td>\n",
       "    </tr>\n",
       "    <tr>\n",
       "      <th>2013-06-30</th>\n",
       "      <td>5.047670e+06</td>\n",
       "    </tr>\n",
       "    <tr>\n",
       "      <th>2013-07-31</th>\n",
       "      <td>3.959044e+06</td>\n",
       "    </tr>\n",
       "    <tr>\n",
       "      <th>2013-08-31</th>\n",
       "      <td>4.475531e+06</td>\n",
       "    </tr>\n",
       "    <tr>\n",
       "      <th>2013-09-30</th>\n",
       "      <td>7.937861e+06</td>\n",
       "    </tr>\n",
       "    <tr>\n",
       "      <th>2013-10-31</th>\n",
       "      <td>6.542260e+06</td>\n",
       "    </tr>\n",
       "    <tr>\n",
       "      <th>2013-11-30</th>\n",
       "      <td>8.248853e+06</td>\n",
       "    </tr>\n",
       "    <tr>\n",
       "      <th>2013-12-31</th>\n",
       "      <td>1.283458e+07</td>\n",
       "    </tr>\n",
       "    <tr>\n",
       "      <th>2014-01-31</th>\n",
       "      <td>5.126725e+06</td>\n",
       "    </tr>\n",
       "    <tr>\n",
       "      <th>2014-02-28</th>\n",
       "      <td>5.966910e+06</td>\n",
       "    </tr>\n",
       "    <tr>\n",
       "      <th>2014-03-31</th>\n",
       "      <td>6.395980e+06</td>\n",
       "    </tr>\n",
       "    <tr>\n",
       "      <th>2014-04-30</th>\n",
       "      <td>4.810962e+06</td>\n",
       "    </tr>\n",
       "    <tr>\n",
       "      <th>2014-05-31</th>\n",
       "      <td>5.248786e+06</td>\n",
       "    </tr>\n",
       "    <tr>\n",
       "      <th>2014-06-30</th>\n",
       "      <td>5.047889e+06</td>\n",
       "    </tr>\n",
       "    <tr>\n",
       "      <th>2014-07-31</th>\n",
       "      <td>4.356052e+06</td>\n",
       "    </tr>\n",
       "    <tr>\n",
       "      <th>2014-08-31</th>\n",
       "      <td>4.993276e+06</td>\n",
       "    </tr>\n",
       "    <tr>\n",
       "      <th>2014-09-30</th>\n",
       "      <td>6.783338e+06</td>\n",
       "    </tr>\n",
       "    <tr>\n",
       "      <th>2014-10-31</th>\n",
       "      <td>6.434201e+06</td>\n",
       "    </tr>\n",
       "    <tr>\n",
       "      <th>2014-11-30</th>\n",
       "      <td>9.408434e+06</td>\n",
       "    </tr>\n",
       "    <tr>\n",
       "      <th>2014-12-31</th>\n",
       "      <td>1.570787e+07</td>\n",
       "    </tr>\n",
       "    <tr>\n",
       "      <th>2015-01-31</th>\n",
       "      <td>6.498782e+06</td>\n",
       "    </tr>\n",
       "    <tr>\n",
       "      <th>2015-02-28</th>\n",
       "      <td>5.716941e+06</td>\n",
       "    </tr>\n",
       "    <tr>\n",
       "      <th>2015-03-31</th>\n",
       "      <td>6.080637e+06</td>\n",
       "    </tr>\n",
       "    <tr>\n",
       "      <th>2015-04-30</th>\n",
       "      <td>6.994908e+06</td>\n",
       "    </tr>\n",
       "    <tr>\n",
       "      <th>2015-05-31</th>\n",
       "      <td>6.898230e+06</td>\n",
       "    </tr>\n",
       "    <tr>\n",
       "      <th>2015-06-30</th>\n",
       "      <td>4.759046e+06</td>\n",
       "    </tr>\n",
       "    <tr>\n",
       "      <th>2015-07-31</th>\n",
       "      <td>4.354057e+06</td>\n",
       "    </tr>\n",
       "    <tr>\n",
       "      <th>2015-08-31</th>\n",
       "      <td>4.368532e+06</td>\n",
       "    </tr>\n",
       "    <tr>\n",
       "      <th>2015-09-30</th>\n",
       "      <td>7.341927e+06</td>\n",
       "    </tr>\n",
       "    <tr>\n",
       "      <th>2015-10-31</th>\n",
       "      <td>7.633958e+06</td>\n",
       "    </tr>\n",
       "  </tbody>\n",
       "</table>\n",
       "</div>"
      ],
      "text/plain": [
       "                 revenue\n",
       "date                    \n",
       "2013-01-31  5.376478e+06\n",
       "2013-02-28  5.530463e+06\n",
       "2013-03-31  6.655983e+06\n",
       "2013-04-30  4.772728e+06\n",
       "2013-05-31  4.171684e+06\n",
       "2013-06-30  5.047670e+06\n",
       "2013-07-31  3.959044e+06\n",
       "2013-08-31  4.475531e+06\n",
       "2013-09-30  7.937861e+06\n",
       "2013-10-31  6.542260e+06\n",
       "2013-11-30  8.248853e+06\n",
       "2013-12-31  1.283458e+07\n",
       "2014-01-31  5.126725e+06\n",
       "2014-02-28  5.966910e+06\n",
       "2014-03-31  6.395980e+06\n",
       "2014-04-30  4.810962e+06\n",
       "2014-05-31  5.248786e+06\n",
       "2014-06-30  5.047889e+06\n",
       "2014-07-31  4.356052e+06\n",
       "2014-08-31  4.993276e+06\n",
       "2014-09-30  6.783338e+06\n",
       "2014-10-31  6.434201e+06\n",
       "2014-11-30  9.408434e+06\n",
       "2014-12-31  1.570787e+07\n",
       "2015-01-31  6.498782e+06\n",
       "2015-02-28  5.716941e+06\n",
       "2015-03-31  6.080637e+06\n",
       "2015-04-30  6.994908e+06\n",
       "2015-05-31  6.898230e+06\n",
       "2015-06-30  4.759046e+06\n",
       "2015-07-31  4.354057e+06\n",
       "2015-08-31  4.368532e+06\n",
       "2015-09-30  7.341927e+06\n",
       "2015-10-31  7.633958e+06"
      ]
     },
     "execution_count": 20,
     "metadata": {},
     "output_type": "execute_result"
    }
   ],
   "source": [
    "time_series = pd.DataFrame(df_25)\n",
    "time_series"
   ]
  },
  {
   "cell_type": "markdown",
   "metadata": {},
   "source": [
    "## Stationary Test"
   ]
  },
  {
   "cell_type": "code",
   "execution_count": 21,
   "metadata": {},
   "outputs": [],
   "source": [
    "from statsmodels.tsa.stattools import adfuller"
   ]
  },
  {
   "cell_type": "code",
   "execution_count": 22,
   "metadata": {},
   "outputs": [],
   "source": [
    "stationary_test=adfuller(time_series['revenue'])"
   ]
  },
  {
   "cell_type": "code",
   "execution_count": 23,
   "metadata": {},
   "outputs": [
    {
     "name": "stdout",
     "output_type": "stream",
     "text": [
      "Reject the null hypothesis. Data is stationary\n",
      "ADF Test Statistic : -4.002470634257283\n",
      "p-value : 0.001397629397457958\n",
      "#Lags Used : 0\n",
      "Number of Observations : 33\n"
     ]
    }
   ],
   "source": [
    "def adfuller_test(revenue):\n",
    "    stationary_test=adfuller(revenue)\n",
    "    labels = ['ADF Test Statistic','p-value','#Lags Used','Number of Observations']\n",
    "    for value,label in zip(stationary_test,labels):\n",
    "        print(label+' : '+str(value) )\n",
    "\n",
    "if stationary_test[1] <= 0.05:\n",
    "    print(\"Reject the null hypothesis. Data is stationary\")\n",
    "else:\n",
    "    print(\"Data is non-stationary \")\n",
    "\n",
    "adfuller_test(time_series['revenue'])"
   ]
  },
  {
   "cell_type": "code",
   "execution_count": 24,
   "metadata": {},
   "outputs": [],
   "source": [
    "rev_diff = time_series - time_series.shift(1)"
   ]
  },
  {
   "cell_type": "code",
   "execution_count": 25,
   "metadata": {},
   "outputs": [],
   "source": [
    "rev_diff[\"second_diff\"] = rev_diff['revenue'] - rev_diff['revenue'].shift(1)"
   ]
  },
  {
   "cell_type": "code",
   "execution_count": 26,
   "metadata": {},
   "outputs": [
    {
     "data": {
      "text/html": [
       "<div>\n",
       "<style scoped>\n",
       "    .dataframe tbody tr th:only-of-type {\n",
       "        vertical-align: middle;\n",
       "    }\n",
       "\n",
       "    .dataframe tbody tr th {\n",
       "        vertical-align: top;\n",
       "    }\n",
       "\n",
       "    .dataframe thead th {\n",
       "        text-align: right;\n",
       "    }\n",
       "</style>\n",
       "<table border=\"1\" class=\"dataframe\">\n",
       "  <thead>\n",
       "    <tr style=\"text-align: right;\">\n",
       "      <th></th>\n",
       "      <th>revenue</th>\n",
       "      <th>second_diff</th>\n",
       "    </tr>\n",
       "    <tr>\n",
       "      <th>date</th>\n",
       "      <th></th>\n",
       "      <th></th>\n",
       "    </tr>\n",
       "  </thead>\n",
       "  <tbody>\n",
       "    <tr>\n",
       "      <th>2013-01-31</th>\n",
       "      <td>NaN</td>\n",
       "      <td>NaN</td>\n",
       "    </tr>\n",
       "    <tr>\n",
       "      <th>2013-02-28</th>\n",
       "      <td>1.539851e+05</td>\n",
       "      <td>NaN</td>\n",
       "    </tr>\n",
       "    <tr>\n",
       "      <th>2013-03-31</th>\n",
       "      <td>1.125520e+06</td>\n",
       "      <td>9.715349e+05</td>\n",
       "    </tr>\n",
       "    <tr>\n",
       "      <th>2013-04-30</th>\n",
       "      <td>-1.883255e+06</td>\n",
       "      <td>-3.008775e+06</td>\n",
       "    </tr>\n",
       "    <tr>\n",
       "      <th>2013-05-31</th>\n",
       "      <td>-6.010444e+05</td>\n",
       "      <td>1.282211e+06</td>\n",
       "    </tr>\n",
       "    <tr>\n",
       "      <th>2013-06-30</th>\n",
       "      <td>8.759864e+05</td>\n",
       "      <td>1.477031e+06</td>\n",
       "    </tr>\n",
       "    <tr>\n",
       "      <th>2013-07-31</th>\n",
       "      <td>-1.088626e+06</td>\n",
       "      <td>-1.964612e+06</td>\n",
       "    </tr>\n",
       "    <tr>\n",
       "      <th>2013-08-31</th>\n",
       "      <td>5.164867e+05</td>\n",
       "      <td>1.605112e+06</td>\n",
       "    </tr>\n",
       "    <tr>\n",
       "      <th>2013-09-30</th>\n",
       "      <td>3.462330e+06</td>\n",
       "      <td>2.945843e+06</td>\n",
       "    </tr>\n",
       "    <tr>\n",
       "      <th>2013-10-31</th>\n",
       "      <td>-1.395601e+06</td>\n",
       "      <td>-4.857931e+06</td>\n",
       "    </tr>\n",
       "    <tr>\n",
       "      <th>2013-11-30</th>\n",
       "      <td>1.706593e+06</td>\n",
       "      <td>3.102194e+06</td>\n",
       "    </tr>\n",
       "    <tr>\n",
       "      <th>2013-12-31</th>\n",
       "      <td>4.585726e+06</td>\n",
       "      <td>2.879133e+06</td>\n",
       "    </tr>\n",
       "    <tr>\n",
       "      <th>2014-01-31</th>\n",
       "      <td>-7.707854e+06</td>\n",
       "      <td>-1.229358e+07</td>\n",
       "    </tr>\n",
       "    <tr>\n",
       "      <th>2014-02-28</th>\n",
       "      <td>8.401850e+05</td>\n",
       "      <td>8.548039e+06</td>\n",
       "    </tr>\n",
       "    <tr>\n",
       "      <th>2014-03-31</th>\n",
       "      <td>4.290700e+05</td>\n",
       "      <td>-4.111150e+05</td>\n",
       "    </tr>\n",
       "    <tr>\n",
       "      <th>2014-04-30</th>\n",
       "      <td>-1.585018e+06</td>\n",
       "      <td>-2.014088e+06</td>\n",
       "    </tr>\n",
       "    <tr>\n",
       "      <th>2014-05-31</th>\n",
       "      <td>4.378240e+05</td>\n",
       "      <td>2.022842e+06</td>\n",
       "    </tr>\n",
       "    <tr>\n",
       "      <th>2014-06-30</th>\n",
       "      <td>-2.008970e+05</td>\n",
       "      <td>-6.387210e+05</td>\n",
       "    </tr>\n",
       "    <tr>\n",
       "      <th>2014-07-31</th>\n",
       "      <td>-6.918370e+05</td>\n",
       "      <td>-4.909400e+05</td>\n",
       "    </tr>\n",
       "    <tr>\n",
       "      <th>2014-08-31</th>\n",
       "      <td>6.372240e+05</td>\n",
       "      <td>1.329061e+06</td>\n",
       "    </tr>\n",
       "    <tr>\n",
       "      <th>2014-09-30</th>\n",
       "      <td>1.790062e+06</td>\n",
       "      <td>1.152838e+06</td>\n",
       "    </tr>\n",
       "    <tr>\n",
       "      <th>2014-10-31</th>\n",
       "      <td>-3.491370e+05</td>\n",
       "      <td>-2.139199e+06</td>\n",
       "    </tr>\n",
       "    <tr>\n",
       "      <th>2014-11-30</th>\n",
       "      <td>2.974233e+06</td>\n",
       "      <td>3.323370e+06</td>\n",
       "    </tr>\n",
       "    <tr>\n",
       "      <th>2014-12-31</th>\n",
       "      <td>6.299432e+06</td>\n",
       "      <td>3.325199e+06</td>\n",
       "    </tr>\n",
       "    <tr>\n",
       "      <th>2015-01-31</th>\n",
       "      <td>-9.209084e+06</td>\n",
       "      <td>-1.550852e+07</td>\n",
       "    </tr>\n",
       "    <tr>\n",
       "      <th>2015-02-28</th>\n",
       "      <td>-7.818410e+05</td>\n",
       "      <td>8.427243e+06</td>\n",
       "    </tr>\n",
       "    <tr>\n",
       "      <th>2015-03-31</th>\n",
       "      <td>3.636960e+05</td>\n",
       "      <td>1.145537e+06</td>\n",
       "    </tr>\n",
       "    <tr>\n",
       "      <th>2015-04-30</th>\n",
       "      <td>9.142710e+05</td>\n",
       "      <td>5.505750e+05</td>\n",
       "    </tr>\n",
       "    <tr>\n",
       "      <th>2015-05-31</th>\n",
       "      <td>-9.667800e+04</td>\n",
       "      <td>-1.010949e+06</td>\n",
       "    </tr>\n",
       "    <tr>\n",
       "      <th>2015-06-30</th>\n",
       "      <td>-2.139184e+06</td>\n",
       "      <td>-2.042507e+06</td>\n",
       "    </tr>\n",
       "    <tr>\n",
       "      <th>2015-07-31</th>\n",
       "      <td>-4.049880e+05</td>\n",
       "      <td>1.734196e+06</td>\n",
       "    </tr>\n",
       "    <tr>\n",
       "      <th>2015-08-31</th>\n",
       "      <td>1.447451e+04</td>\n",
       "      <td>4.194625e+05</td>\n",
       "    </tr>\n",
       "    <tr>\n",
       "      <th>2015-09-30</th>\n",
       "      <td>2.973395e+06</td>\n",
       "      <td>2.958920e+06</td>\n",
       "    </tr>\n",
       "    <tr>\n",
       "      <th>2015-10-31</th>\n",
       "      <td>2.920310e+05</td>\n",
       "      <td>-2.681364e+06</td>\n",
       "    </tr>\n",
       "  </tbody>\n",
       "</table>\n",
       "</div>"
      ],
      "text/plain": [
       "                 revenue   second_diff\n",
       "date                                  \n",
       "2013-01-31           NaN           NaN\n",
       "2013-02-28  1.539851e+05           NaN\n",
       "2013-03-31  1.125520e+06  9.715349e+05\n",
       "2013-04-30 -1.883255e+06 -3.008775e+06\n",
       "2013-05-31 -6.010444e+05  1.282211e+06\n",
       "2013-06-30  8.759864e+05  1.477031e+06\n",
       "2013-07-31 -1.088626e+06 -1.964612e+06\n",
       "2013-08-31  5.164867e+05  1.605112e+06\n",
       "2013-09-30  3.462330e+06  2.945843e+06\n",
       "2013-10-31 -1.395601e+06 -4.857931e+06\n",
       "2013-11-30  1.706593e+06  3.102194e+06\n",
       "2013-12-31  4.585726e+06  2.879133e+06\n",
       "2014-01-31 -7.707854e+06 -1.229358e+07\n",
       "2014-02-28  8.401850e+05  8.548039e+06\n",
       "2014-03-31  4.290700e+05 -4.111150e+05\n",
       "2014-04-30 -1.585018e+06 -2.014088e+06\n",
       "2014-05-31  4.378240e+05  2.022842e+06\n",
       "2014-06-30 -2.008970e+05 -6.387210e+05\n",
       "2014-07-31 -6.918370e+05 -4.909400e+05\n",
       "2014-08-31  6.372240e+05  1.329061e+06\n",
       "2014-09-30  1.790062e+06  1.152838e+06\n",
       "2014-10-31 -3.491370e+05 -2.139199e+06\n",
       "2014-11-30  2.974233e+06  3.323370e+06\n",
       "2014-12-31  6.299432e+06  3.325199e+06\n",
       "2015-01-31 -9.209084e+06 -1.550852e+07\n",
       "2015-02-28 -7.818410e+05  8.427243e+06\n",
       "2015-03-31  3.636960e+05  1.145537e+06\n",
       "2015-04-30  9.142710e+05  5.505750e+05\n",
       "2015-05-31 -9.667800e+04 -1.010949e+06\n",
       "2015-06-30 -2.139184e+06 -2.042507e+06\n",
       "2015-07-31 -4.049880e+05  1.734196e+06\n",
       "2015-08-31  1.447451e+04  4.194625e+05\n",
       "2015-09-30  2.973395e+06  2.958920e+06\n",
       "2015-10-31  2.920310e+05 -2.681364e+06"
      ]
     },
     "execution_count": 26,
     "metadata": {},
     "output_type": "execute_result"
    }
   ],
   "source": [
    "rev_diff"
   ]
  },
  {
   "cell_type": "markdown",
   "metadata": {},
   "source": [
    "### Calculate mean square error"
   ]
  },
  {
   "cell_type": "markdown",
   "metadata": {},
   "source": [
    "### Create Test and Train data"
   ]
  },
  {
   "cell_type": "code",
   "execution_count": 27,
   "metadata": {},
   "outputs": [],
   "source": [
    "#create a training dataset\n",
    "\n",
    "size = int(len(time_series) * 0.70)\n",
    "df25_train = time_series[0:size]\n"
   ]
  },
  {
   "cell_type": "code",
   "execution_count": 28,
   "metadata": {},
   "outputs": [
    {
     "data": {
      "text/plain": [
       "(23, 1)"
      ]
     },
     "execution_count": 28,
     "metadata": {},
     "output_type": "execute_result"
    }
   ],
   "source": [
    "df25_train.shape"
   ]
  },
  {
   "cell_type": "code",
   "execution_count": 29,
   "metadata": {
    "scrolled": true
   },
   "outputs": [],
   "source": [
    "#Create a Test dataset \n",
    "df25_test = time_series[size:len(time_series)]"
   ]
  },
  {
   "cell_type": "code",
   "execution_count": 30,
   "metadata": {},
   "outputs": [
    {
     "data": {
      "text/plain": [
       "(11, 1)"
      ]
     },
     "execution_count": 30,
     "metadata": {},
     "output_type": "execute_result"
    }
   ],
   "source": [
    "df25_test.shape"
   ]
  },
  {
   "cell_type": "markdown",
   "metadata": {},
   "source": [
    "### ARIMA Model"
   ]
  },
  {
   "cell_type": "code",
   "execution_count": 31,
   "metadata": {},
   "outputs": [],
   "source": [
    "from statsmodels.graphics.tsaplots import plot_acf, plot_pacf"
   ]
  },
  {
   "cell_type": "code",
   "execution_count": 32,
   "metadata": {},
   "outputs": [
    {
     "data": {
      "image/png": "[encoded data removed]",
      "text/plain": [
       "<Figure size 432x288 with 1 Axes>"
      ]
     },
     "metadata": {
      "needs_background": "light"
     },
     "output_type": "display_data"
    }
   ],
   "source": [
    "# plot acf to determine the value of the p parameter for the model \n",
    "\n",
    "first_diff = plot_acf(rev_diff['revenue'].dropna())"
   ]
  },
  {
   "cell_type": "code",
   "execution_count": 33,
   "metadata": {},
   "outputs": [
    {
     "name": "stderr",
     "output_type": "stream",
     "text": [
      "C:\\Users\\fmgri\\anaconda3\\envs\\PythonData\\lib\\site-packages\\statsmodels\\regression\\linear_model.py:1406: RuntimeWarning: invalid value encountered in sqrt\n",
      "  return rho, np.sqrt(sigmasq)\n"
     ]
    },
    {
     "data": {
      "image/png": "[encoded data removed]",
      "text/plain": [
       "<Figure size 432x288 with 1 Axes>"
      ]
     },
     "metadata": {
      "needs_background": "light"
     },
     "output_type": "display_data"
    }
   ],
   "source": [
    "# plot pacf of the second revenue difference\n",
    "sec_diff = plot_pacf(rev_diff['second_diff'].dropna())"
   ]
  },
  {
   "cell_type": "code",
   "execution_count": 34,
   "metadata": {},
   "outputs": [
    {
     "data": {
      "text/html": [
       "<table class=\"simpletable\">\n",
       "<caption>ARMA Model Results</caption>\n",
       "<tr>\n",
       "  <th>Dep. Variable:</th>      <td>revenue</td>     <th>  No. Observations:  </th>     <td>23</td>     \n",
       "</tr>\n",
       "<tr>\n",
       "  <th>Model:</th>            <td>ARMA(1, 1)</td>    <th>  Log Likelihood     </th>  <td>-365.068</td>  \n",
       "</tr>\n",
       "<tr>\n",
       "  <th>Method:</th>             <td>css-mle</td>     <th>  S.D. of innovations</th> <td>1889313.172</td>\n",
       "</tr>\n",
       "<tr>\n",
       "  <th>Date:</th>          <td>Thu, 05 Aug 2021</td> <th>  AIC                </th>   <td>738.135</td>  \n",
       "</tr>\n",
       "<tr>\n",
       "  <th>Time:</th>              <td>19:33:49</td>     <th>  BIC                </th>   <td>742.677</td>  \n",
       "</tr>\n",
       "<tr>\n",
       "  <th>Sample:</th>           <td>01-31-2013</td>    <th>  HQIC               </th>   <td>739.277</td>  \n",
       "</tr>\n",
       "<tr>\n",
       "  <th></th>                 <td>- 11-30-2014</td>   <th>                     </th>      <td> </td>     \n",
       "</tr>\n",
       "</table>\n",
       "<table class=\"simpletable\">\n",
       "<tr>\n",
       "        <td></td>           <th>coef</th>     <th>std err</th>      <th>z</th>      <th>P>|z|</th>  <th>[0.025</th>    <th>0.975]</th>  \n",
       "</tr>\n",
       "<tr>\n",
       "  <th>const</th>         <td> 6.092e+06</td> <td> 5.65e+05</td> <td>   10.791</td> <td> 0.000</td> <td> 4.99e+06</td> <td>  7.2e+06</td>\n",
       "</tr>\n",
       "<tr>\n",
       "  <th>ar.L1.revenue</th> <td>    0.4344</td> <td>    0.485</td> <td>    0.896</td> <td> 0.370</td> <td>   -0.516</td> <td>    1.385</td>\n",
       "</tr>\n",
       "<tr>\n",
       "  <th>ma.L1.revenue</th> <td>   -0.1708</td> <td>    0.509</td> <td>   -0.335</td> <td> 0.737</td> <td>   -1.169</td> <td>    0.827</td>\n",
       "</tr>\n",
       "</table>\n",
       "<table class=\"simpletable\">\n",
       "<caption>Roots</caption>\n",
       "<tr>\n",
       "    <td></td>   <th>            Real</th>  <th>         Imaginary</th> <th>         Modulus</th>  <th>        Frequency</th>\n",
       "</tr>\n",
       "<tr>\n",
       "  <th>AR.1</th> <td>           2.3020</td> <td>          +0.0000j</td> <td>           2.3020</td> <td>           0.0000</td>\n",
       "</tr>\n",
       "<tr>\n",
       "  <th>MA.1</th> <td>           5.8559</td> <td>          +0.0000j</td> <td>           5.8559</td> <td>           0.0000</td>\n",
       "</tr>\n",
       "</table>"
      ],
      "text/plain": [
       "<class 'statsmodels.iolib.summary.Summary'>\n",
       "\"\"\"\n",
       "                              ARMA Model Results                              \n",
       "==============================================================================\n",
       "Dep. Variable:                revenue   No. Observations:                   23\n",
       "Model:                     ARMA(1, 1)   Log Likelihood                -365.068\n",
       "Method:                       css-mle   S.D. of innovations        1889313.172\n",
       "Date:                Thu, 05 Aug 2021   AIC                            738.135\n",
       "Time:                        19:33:49   BIC                            742.677\n",
       "Sample:                    01-31-2013   HQIC                           739.277\n",
       "                         - 11-30-2014                                         \n",
       "=================================================================================\n",
       "                    coef    std err          z      P>|z|      [0.025      0.975]\n",
       "---------------------------------------------------------------------------------\n",
       "const          6.092e+06   5.65e+05     10.791      0.000    4.99e+06     7.2e+06\n",
       "ar.L1.revenue     0.4344      0.485      0.896      0.370      -0.516       1.385\n",
       "ma.L1.revenue    -0.1708      0.509     -0.335      0.737      -1.169       0.827\n",
       "                                    Roots                                    \n",
       "=============================================================================\n",
       "                  Real          Imaginary           Modulus         Frequency\n",
       "-----------------------------------------------------------------------------\n",
       "AR.1            2.3020           +0.0000j            2.3020            0.0000\n",
       "MA.1            5.8559           +0.0000j            5.8559            0.0000\n",
       "-----------------------------------------------------------------------------\n",
       "\"\"\""
      ]
     },
     "execution_count": 34,
     "metadata": {},
     "output_type": "execute_result"
    }
   ],
   "source": [
    "\n",
    "from statsmodels.tsa.arima_model import ARIMA \n",
    "# MODEL parameters  p=1  d=0 q=1\n",
    "revenue_model = ARIMA(df25_train, order=(1,0,1))\n",
    "\n",
    "#fit MODEL\n",
    "\n",
    "revenue_model_fit = revenue_model.fit()\n",
    "\n",
    "revenue_model_fit.summary()"
   ]
  },
  {
   "cell_type": "code",
   "execution_count": 35,
   "metadata": {},
   "outputs": [
    {
     "data": {
      "text/plain": [
       "date\n",
       "2013-01-31   -7.159431e+05\n",
       "2013-02-28   -3.635633e+05\n",
       "2013-03-31    7.457354e+05\n",
       "2013-04-30   -1.437167e+06\n",
       "2013-05-31   -1.592881e+06\n",
       "2013-06-30   -4.823914e+05\n",
       "2013-07-31   -1.761912e+06\n",
       "2013-08-31   -9.910243e+05\n",
       "2013-09-30    2.378585e+06\n",
       "2013-10-31    5.436168e+04\n",
       "2013-11-30    1.970304e+06\n",
       "2013-12-31    6.141864e+06\n",
       "2014-01-31   -2.845672e+06\n",
       "2014-02-28   -1.919602e+05\n",
       "2014-03-31    3.253005e+05\n",
       "2014-04-30   -1.357775e+06\n",
       "2014-05-31   -5.188308e+05\n",
       "2014-06-30   -7.666548e+05\n",
       "2014-07-31   -1.413542e+06\n",
       "2014-08-31   -5.862501e+05\n",
       "2014-09-30    1.068275e+06\n",
       "2014-10-31    2.240712e+05\n",
       "2014-11-30    3.205807e+06\n",
       "Freq: M, dtype: float64"
      ]
     },
     "execution_count": 35,
     "metadata": {},
     "output_type": "execute_result"
    }
   ],
   "source": [
    "revenue_model_fit.resid"
   ]
  },
  {
   "cell_type": "code",
   "execution_count": 43,
   "metadata": {},
   "outputs": [
    {
     "data": {
      "text/plain": [
       "array([6985455.73525306, 6480357.50952804, 6260941.64624245,\n",
       "       6165626.87654145, 6124221.91526329, 6106235.50220449,\n",
       "       6098422.16185264, 6095028.02833339, 6093553.60870904,\n",
       "       6092913.11733876, 6092634.88637341])"
      ]
     },
     "execution_count": 43,
     "metadata": {},
     "output_type": "execute_result"
    }
   ],
   "source": [
    "revenue_forecast = revenue_model_fit.forecast(steps=11)[0]\n",
    "revenue_forecast"
   ]
  },
  {
   "cell_type": "code",
   "execution_count": 51,
   "metadata": {},
   "outputs": [
    {
     "data": {
      "text/plain": [
       "<matplotlib.axes._subplots.AxesSubplot at 0x1f23257ea88>"
      ]
     },
     "execution_count": 51,
     "metadata": {},
     "output_type": "execute_result"
    },
    {
     "data": {
      "image/png": "[encoded data removed]",
      "text/plain": [
       "<Figure size 432x288 with 1 Axes>"
      ]
     },
     "metadata": {
      "needs_background": "light"
     },
     "output_type": "display_data"
    }
   ],
   "source": [
    "test_forecast = df25_test.copy()\n",
    "test_forecast[\"predicted\"] = revenue_forecast\n",
    "test_forecast.plot()"
   ]
  },
  {
   "cell_type": "markdown",
   "metadata": {},
   "source": [
    "## Evaluate the model "
   ]
  },
  {
   "cell_type": "code",
   "execution_count": 58,
   "metadata": {},
   "outputs": [
    {
     "data": {
      "text/plain": [
       "2852520.579818862"
      ]
     },
     "execution_count": 58,
     "metadata": {},
     "output_type": "execute_result"
    }
   ],
   "source": [
    "from sklearn.metrics import mean_squared_error\n",
    "df25_error = mean_squared_error(test_forecast[\"revenue\"], test_forecast[\"predicted\"])\n",
    "np.sqrt(df_25_error)\n"
   ]
  },
  {
   "cell_type": "markdown",
   "metadata": {},
   "source": [
    "## Forecast Dec 2015"
   ]
  },
  {
   "cell_type": "code",
   "execution_count": 101,
   "metadata": {},
   "outputs": [
    {
     "name": "stdout",
     "output_type": "stream",
     "text": [
      "December 2015 Forecasted Revenue : 6,092,461.52\n"
     ]
    }
   ],
   "source": [
    "# fit 1 month data\n",
    "revenue_forecast = revenue_model_fit.forecast(steps=13)[0]\n",
    "Dec2015_revenue = revenue_forecast\n",
    "\n",
    "print(f\"December 2015 Forecasted Revenue : {Dec2015_revenue[12]:,.2f}\")"
   ]
  },
  {
   "cell_type": "markdown",
   "metadata": {},
   "source": [
    "## Residual"
   ]
  },
  {
   "cell_type": "code",
   "execution_count": 98,
   "metadata": {},
   "outputs": [
    {
     "data": {
      "text/plain": [
       "<matplotlib.axes._subplots.AxesSubplot at 0x1f232718808>"
      ]
     },
     "execution_count": 98,
     "metadata": {},
     "output_type": "execute_result"
    },
    {
     "data": {
      "image/png": "[encoded data removed]",
      "text/plain": [
       "<Figure size 432x288 with 1 Axes>"
      ]
     },
     "metadata": {
      "needs_background": "light"
     },
     "output_type": "display_data"
    }
   ],
   "source": [
    "revenue_model_fit.resid.plot()"
   ]
  },
  {
   "cell_type": "code",
   "execution_count": 99,
   "metadata": {},
   "outputs": [
    {
     "data": {
      "text/plain": [
       "<matplotlib.axes._subplots.AxesSubplot at 0x1f23279a288>"
      ]
     },
     "execution_count": 99,
     "metadata": {},
     "output_type": "execute_result"
    },
    {
     "data": {
      "image/png": "[encoded data removed]",
      "text/plain": [
       "<Figure size 432x288 with 1 Axes>"
      ]
     },
     "metadata": {
      "needs_background": "light"
     },
     "output_type": "display_data"
    }
   ],
   "source": [
    "revenue_model_fit.resid.plot(kind='kde')"
   ]
  },
  {
   "cell_type": "code",
   "execution_count": null,
   "metadata": {},
   "outputs": [],
   "source": []
  }
 ],
 "metadata": {
  "kernelspec": {
   "display_name": "Python 3",
   "language": "python",
   "name": "python3"
  },
  "language_info": {
   "codemirror_mode": {
    "name": "ipython",
    "version": 3
   },
   "file_extension": ".py",
   "mimetype": "text/x-python",
   "name": "python",
   "nbconvert_exporter": "python",
   "pygments_lexer": "ipython3",
   "version": "3.7.6"
  }
 },
 "nbformat": 4,
 "nbformat_minor": 4
}
