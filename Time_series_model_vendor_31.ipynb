{
 "cells": [
  {
   "cell_type": "code",
   "execution_count": 1,
   "metadata": {},
   "outputs": [],
   "source": [
    "import pandas as pd\n",
    "import numpy as np\n",
    "%matplotlib inline\n",
    "from pathlib import Path\n",
    "import seaborn as sns\n",
    "from sklearn.linear_model import LinearRegression\n",
    "import matplotlib.pyplot as plt\n",
    "import datetime as dt\n",
    "\n"
   ]
  },
  {
   "cell_type": "code",
   "execution_count": 2,
   "metadata": {},
   "outputs": [
    {
     "data": {
      "text/html": [
       "<div>\n",
       "<style scoped>\n",
       "    .dataframe tbody tr th:only-of-type {\n",
       "        vertical-align: middle;\n",
       "    }\n",
       "\n",
       "    .dataframe tbody tr th {\n",
       "        vertical-align: top;\n",
       "    }\n",
       "\n",
       "    .dataframe thead th {\n",
       "        text-align: right;\n",
       "    }\n",
       "</style>\n",
       "<table border=\"1\" class=\"dataframe\">\n",
       "  <thead>\n",
       "    <tr style=\"text-align: right;\">\n",
       "      <th></th>\n",
       "      <th>date</th>\n",
       "      <th>vendor_id</th>\n",
       "      <th>item_id</th>\n",
       "      <th>item_price</th>\n",
       "      <th>item_cnt_day</th>\n",
       "    </tr>\n",
       "  </thead>\n",
       "  <tbody>\n",
       "    <tr>\n",
       "      <th>0</th>\n",
       "      <td>02.01.2013</td>\n",
       "      <td>59</td>\n",
       "      <td>22154</td>\n",
       "      <td>999.00</td>\n",
       "      <td>1.0</td>\n",
       "    </tr>\n",
       "    <tr>\n",
       "      <th>1</th>\n",
       "      <td>03.01.2013</td>\n",
       "      <td>25</td>\n",
       "      <td>2552</td>\n",
       "      <td>899.00</td>\n",
       "      <td>1.0</td>\n",
       "    </tr>\n",
       "    <tr>\n",
       "      <th>2</th>\n",
       "      <td>05.01.2013</td>\n",
       "      <td>25</td>\n",
       "      <td>2552</td>\n",
       "      <td>899.00</td>\n",
       "      <td>-1.0</td>\n",
       "    </tr>\n",
       "    <tr>\n",
       "      <th>3</th>\n",
       "      <td>06.01.2013</td>\n",
       "      <td>25</td>\n",
       "      <td>2554</td>\n",
       "      <td>1709.05</td>\n",
       "      <td>1.0</td>\n",
       "    </tr>\n",
       "    <tr>\n",
       "      <th>4</th>\n",
       "      <td>15.01.2013</td>\n",
       "      <td>25</td>\n",
       "      <td>2555</td>\n",
       "      <td>1099.00</td>\n",
       "      <td>1.0</td>\n",
       "    </tr>\n",
       "    <tr>\n",
       "      <th>5</th>\n",
       "      <td>10.01.2013</td>\n",
       "      <td>25</td>\n",
       "      <td>2564</td>\n",
       "      <td>349.00</td>\n",
       "      <td>1.0</td>\n",
       "    </tr>\n",
       "    <tr>\n",
       "      <th>6</th>\n",
       "      <td>02.01.2013</td>\n",
       "      <td>25</td>\n",
       "      <td>2565</td>\n",
       "      <td>549.00</td>\n",
       "      <td>1.0</td>\n",
       "    </tr>\n",
       "    <tr>\n",
       "      <th>7</th>\n",
       "      <td>04.01.2013</td>\n",
       "      <td>25</td>\n",
       "      <td>2572</td>\n",
       "      <td>239.00</td>\n",
       "      <td>1.0</td>\n",
       "    </tr>\n",
       "    <tr>\n",
       "      <th>8</th>\n",
       "      <td>11.01.2013</td>\n",
       "      <td>25</td>\n",
       "      <td>2572</td>\n",
       "      <td>299.00</td>\n",
       "      <td>1.0</td>\n",
       "    </tr>\n",
       "    <tr>\n",
       "      <th>9</th>\n",
       "      <td>03.01.2013</td>\n",
       "      <td>25</td>\n",
       "      <td>2573</td>\n",
       "      <td>299.00</td>\n",
       "      <td>3.0</td>\n",
       "    </tr>\n",
       "    <tr>\n",
       "      <th>10</th>\n",
       "      <td>03.01.2013</td>\n",
       "      <td>25</td>\n",
       "      <td>2574</td>\n",
       "      <td>399.00</td>\n",
       "      <td>2.0</td>\n",
       "    </tr>\n",
       "    <tr>\n",
       "      <th>11</th>\n",
       "      <td>05.01.2013</td>\n",
       "      <td>25</td>\n",
       "      <td>2574</td>\n",
       "      <td>399.00</td>\n",
       "      <td>1.0</td>\n",
       "    </tr>\n",
       "    <tr>\n",
       "      <th>12</th>\n",
       "      <td>07.01.2013</td>\n",
       "      <td>25</td>\n",
       "      <td>2574</td>\n",
       "      <td>399.00</td>\n",
       "      <td>1.0</td>\n",
       "    </tr>\n",
       "    <tr>\n",
       "      <th>13</th>\n",
       "      <td>08.01.2013</td>\n",
       "      <td>25</td>\n",
       "      <td>2574</td>\n",
       "      <td>399.00</td>\n",
       "      <td>2.0</td>\n",
       "    </tr>\n",
       "    <tr>\n",
       "      <th>14</th>\n",
       "      <td>10.01.2013</td>\n",
       "      <td>25</td>\n",
       "      <td>2574</td>\n",
       "      <td>399.00</td>\n",
       "      <td>1.0</td>\n",
       "    </tr>\n",
       "    <tr>\n",
       "      <th>15</th>\n",
       "      <td>11.01.2013</td>\n",
       "      <td>25</td>\n",
       "      <td>2574</td>\n",
       "      <td>399.00</td>\n",
       "      <td>2.0</td>\n",
       "    </tr>\n",
       "    <tr>\n",
       "      <th>16</th>\n",
       "      <td>13.01.2013</td>\n",
       "      <td>25</td>\n",
       "      <td>2574</td>\n",
       "      <td>399.00</td>\n",
       "      <td>1.0</td>\n",
       "    </tr>\n",
       "    <tr>\n",
       "      <th>17</th>\n",
       "      <td>16.01.2013</td>\n",
       "      <td>25</td>\n",
       "      <td>2574</td>\n",
       "      <td>399.00</td>\n",
       "      <td>1.0</td>\n",
       "    </tr>\n",
       "    <tr>\n",
       "      <th>18</th>\n",
       "      <td>26.01.2013</td>\n",
       "      <td>25</td>\n",
       "      <td>2574</td>\n",
       "      <td>399.00</td>\n",
       "      <td>1.0</td>\n",
       "    </tr>\n",
       "    <tr>\n",
       "      <th>19</th>\n",
       "      <td>27.01.2013</td>\n",
       "      <td>25</td>\n",
       "      <td>2574</td>\n",
       "      <td>399.00</td>\n",
       "      <td>1.0</td>\n",
       "    </tr>\n",
       "  </tbody>\n",
       "</table>\n",
       "</div>"
      ],
      "text/plain": [
       "          date  vendor_id  item_id  item_price  item_cnt_day\n",
       "0   02.01.2013         59    22154      999.00           1.0\n",
       "1   03.01.2013         25     2552      899.00           1.0\n",
       "2   05.01.2013         25     2552      899.00          -1.0\n",
       "3   06.01.2013         25     2554     1709.05           1.0\n",
       "4   15.01.2013         25     2555     1099.00           1.0\n",
       "5   10.01.2013         25     2564      349.00           1.0\n",
       "6   02.01.2013         25     2565      549.00           1.0\n",
       "7   04.01.2013         25     2572      239.00           1.0\n",
       "8   11.01.2013         25     2572      299.00           1.0\n",
       "9   03.01.2013         25     2573      299.00           3.0\n",
       "10  03.01.2013         25     2574      399.00           2.0\n",
       "11  05.01.2013         25     2574      399.00           1.0\n",
       "12  07.01.2013         25     2574      399.00           1.0\n",
       "13  08.01.2013         25     2574      399.00           2.0\n",
       "14  10.01.2013         25     2574      399.00           1.0\n",
       "15  11.01.2013         25     2574      399.00           2.0\n",
       "16  13.01.2013         25     2574      399.00           1.0\n",
       "17  16.01.2013         25     2574      399.00           1.0\n",
       "18  26.01.2013         25     2574      399.00           1.0\n",
       "19  27.01.2013         25     2574      399.00           1.0"
      ]
     },
     "execution_count": 2,
     "metadata": {},
     "output_type": "execute_result"
    }
   ],
   "source": [
    "\n",
    "#Read and load csv files \n",
    "file_path = Path(\"resources/dataset.csv\")\n",
    "df = pd.read_csv(file_path, sep = ',')\n",
    "df.head(20)\n",
    "\n"
   ]
  },
  {
   "cell_type": "code",
   "execution_count": 3,
   "metadata": {},
   "outputs": [
    {
     "name": "stdout",
     "output_type": "stream",
     "text": [
      "<class 'pandas.core.frame.DataFrame'>\n",
      "RangeIndex: 2935849 entries, 0 to 2935848\n",
      "Data columns (total 5 columns):\n",
      " #   Column        Dtype         \n",
      "---  ------        -----         \n",
      " 0   date          datetime64[ns]\n",
      " 1   vendor_id     int64         \n",
      " 2   item_id       int64         \n",
      " 3   item_price    float64       \n",
      " 4   item_cnt_day  float64       \n",
      "dtypes: datetime64[ns](1), float64(2), int64(2)\n",
      "memory usage: 112.0 MB\n"
     ]
    }
   ],
   "source": [
    "# convert date to date format yyyy-mm-dd\n",
    "df[\"date\"] = pd.to_datetime(df['date'],dayfirst=True)\n",
    "df.info()"
   ]
  },
  {
   "cell_type": "code",
   "execution_count": 4,
   "metadata": {
    "scrolled": false
   },
   "outputs": [
    {
     "data": {
      "text/html": [
       "<div>\n",
       "<style scoped>\n",
       "    .dataframe tbody tr th:only-of-type {\n",
       "        vertical-align: middle;\n",
       "    }\n",
       "\n",
       "    .dataframe tbody tr th {\n",
       "        vertical-align: top;\n",
       "    }\n",
       "\n",
       "    .dataframe thead th {\n",
       "        text-align: right;\n",
       "    }\n",
       "</style>\n",
       "<table border=\"1\" class=\"dataframe\">\n",
       "  <thead>\n",
       "    <tr style=\"text-align: right;\">\n",
       "      <th></th>\n",
       "      <th>date</th>\n",
       "      <th>vendor_id</th>\n",
       "      <th>item_id</th>\n",
       "      <th>item_price</th>\n",
       "      <th>item_cnt_day</th>\n",
       "      <th>revenue</th>\n",
       "    </tr>\n",
       "  </thead>\n",
       "  <tbody>\n",
       "    <tr>\n",
       "      <th>0</th>\n",
       "      <td>2013-01-02</td>\n",
       "      <td>59</td>\n",
       "      <td>22154</td>\n",
       "      <td>999.00</td>\n",
       "      <td>1.0</td>\n",
       "      <td>999.00</td>\n",
       "    </tr>\n",
       "    <tr>\n",
       "      <th>1</th>\n",
       "      <td>2013-01-03</td>\n",
       "      <td>25</td>\n",
       "      <td>2552</td>\n",
       "      <td>899.00</td>\n",
       "      <td>1.0</td>\n",
       "      <td>899.00</td>\n",
       "    </tr>\n",
       "    <tr>\n",
       "      <th>2</th>\n",
       "      <td>2013-01-05</td>\n",
       "      <td>25</td>\n",
       "      <td>2552</td>\n",
       "      <td>899.00</td>\n",
       "      <td>-1.0</td>\n",
       "      <td>-899.00</td>\n",
       "    </tr>\n",
       "    <tr>\n",
       "      <th>3</th>\n",
       "      <td>2013-01-06</td>\n",
       "      <td>25</td>\n",
       "      <td>2554</td>\n",
       "      <td>1709.05</td>\n",
       "      <td>1.0</td>\n",
       "      <td>1709.05</td>\n",
       "    </tr>\n",
       "    <tr>\n",
       "      <th>4</th>\n",
       "      <td>2013-01-15</td>\n",
       "      <td>25</td>\n",
       "      <td>2555</td>\n",
       "      <td>1099.00</td>\n",
       "      <td>1.0</td>\n",
       "      <td>1099.00</td>\n",
       "    </tr>\n",
       "    <tr>\n",
       "      <th>5</th>\n",
       "      <td>2013-01-10</td>\n",
       "      <td>25</td>\n",
       "      <td>2564</td>\n",
       "      <td>349.00</td>\n",
       "      <td>1.0</td>\n",
       "      <td>349.00</td>\n",
       "    </tr>\n",
       "    <tr>\n",
       "      <th>6</th>\n",
       "      <td>2013-01-02</td>\n",
       "      <td>25</td>\n",
       "      <td>2565</td>\n",
       "      <td>549.00</td>\n",
       "      <td>1.0</td>\n",
       "      <td>549.00</td>\n",
       "    </tr>\n",
       "    <tr>\n",
       "      <th>7</th>\n",
       "      <td>2013-01-04</td>\n",
       "      <td>25</td>\n",
       "      <td>2572</td>\n",
       "      <td>239.00</td>\n",
       "      <td>1.0</td>\n",
       "      <td>239.00</td>\n",
       "    </tr>\n",
       "    <tr>\n",
       "      <th>8</th>\n",
       "      <td>2013-01-11</td>\n",
       "      <td>25</td>\n",
       "      <td>2572</td>\n",
       "      <td>299.00</td>\n",
       "      <td>1.0</td>\n",
       "      <td>299.00</td>\n",
       "    </tr>\n",
       "    <tr>\n",
       "      <th>9</th>\n",
       "      <td>2013-01-03</td>\n",
       "      <td>25</td>\n",
       "      <td>2573</td>\n",
       "      <td>299.00</td>\n",
       "      <td>3.0</td>\n",
       "      <td>897.00</td>\n",
       "    </tr>\n",
       "    <tr>\n",
       "      <th>10</th>\n",
       "      <td>2013-01-03</td>\n",
       "      <td>25</td>\n",
       "      <td>2574</td>\n",
       "      <td>399.00</td>\n",
       "      <td>2.0</td>\n",
       "      <td>798.00</td>\n",
       "    </tr>\n",
       "    <tr>\n",
       "      <th>11</th>\n",
       "      <td>2013-01-05</td>\n",
       "      <td>25</td>\n",
       "      <td>2574</td>\n",
       "      <td>399.00</td>\n",
       "      <td>1.0</td>\n",
       "      <td>399.00</td>\n",
       "    </tr>\n",
       "    <tr>\n",
       "      <th>12</th>\n",
       "      <td>2013-01-07</td>\n",
       "      <td>25</td>\n",
       "      <td>2574</td>\n",
       "      <td>399.00</td>\n",
       "      <td>1.0</td>\n",
       "      <td>399.00</td>\n",
       "    </tr>\n",
       "    <tr>\n",
       "      <th>13</th>\n",
       "      <td>2013-01-08</td>\n",
       "      <td>25</td>\n",
       "      <td>2574</td>\n",
       "      <td>399.00</td>\n",
       "      <td>2.0</td>\n",
       "      <td>798.00</td>\n",
       "    </tr>\n",
       "    <tr>\n",
       "      <th>14</th>\n",
       "      <td>2013-01-10</td>\n",
       "      <td>25</td>\n",
       "      <td>2574</td>\n",
       "      <td>399.00</td>\n",
       "      <td>1.0</td>\n",
       "      <td>399.00</td>\n",
       "    </tr>\n",
       "    <tr>\n",
       "      <th>15</th>\n",
       "      <td>2013-01-11</td>\n",
       "      <td>25</td>\n",
       "      <td>2574</td>\n",
       "      <td>399.00</td>\n",
       "      <td>2.0</td>\n",
       "      <td>798.00</td>\n",
       "    </tr>\n",
       "    <tr>\n",
       "      <th>16</th>\n",
       "      <td>2013-01-13</td>\n",
       "      <td>25</td>\n",
       "      <td>2574</td>\n",
       "      <td>399.00</td>\n",
       "      <td>1.0</td>\n",
       "      <td>399.00</td>\n",
       "    </tr>\n",
       "    <tr>\n",
       "      <th>17</th>\n",
       "      <td>2013-01-16</td>\n",
       "      <td>25</td>\n",
       "      <td>2574</td>\n",
       "      <td>399.00</td>\n",
       "      <td>1.0</td>\n",
       "      <td>399.00</td>\n",
       "    </tr>\n",
       "    <tr>\n",
       "      <th>18</th>\n",
       "      <td>2013-01-26</td>\n",
       "      <td>25</td>\n",
       "      <td>2574</td>\n",
       "      <td>399.00</td>\n",
       "      <td>1.0</td>\n",
       "      <td>399.00</td>\n",
       "    </tr>\n",
       "    <tr>\n",
       "      <th>19</th>\n",
       "      <td>2013-01-27</td>\n",
       "      <td>25</td>\n",
       "      <td>2574</td>\n",
       "      <td>399.00</td>\n",
       "      <td>1.0</td>\n",
       "      <td>399.00</td>\n",
       "    </tr>\n",
       "  </tbody>\n",
       "</table>\n",
       "</div>"
      ],
      "text/plain": [
       "         date  vendor_id  item_id  item_price  item_cnt_day  revenue\n",
       "0  2013-01-02         59    22154      999.00           1.0   999.00\n",
       "1  2013-01-03         25     2552      899.00           1.0   899.00\n",
       "2  2013-01-05         25     2552      899.00          -1.0  -899.00\n",
       "3  2013-01-06         25     2554     1709.05           1.0  1709.05\n",
       "4  2013-01-15         25     2555     1099.00           1.0  1099.00\n",
       "5  2013-01-10         25     2564      349.00           1.0   349.00\n",
       "6  2013-01-02         25     2565      549.00           1.0   549.00\n",
       "7  2013-01-04         25     2572      239.00           1.0   239.00\n",
       "8  2013-01-11         25     2572      299.00           1.0   299.00\n",
       "9  2013-01-03         25     2573      299.00           3.0   897.00\n",
       "10 2013-01-03         25     2574      399.00           2.0   798.00\n",
       "11 2013-01-05         25     2574      399.00           1.0   399.00\n",
       "12 2013-01-07         25     2574      399.00           1.0   399.00\n",
       "13 2013-01-08         25     2574      399.00           2.0   798.00\n",
       "14 2013-01-10         25     2574      399.00           1.0   399.00\n",
       "15 2013-01-11         25     2574      399.00           2.0   798.00\n",
       "16 2013-01-13         25     2574      399.00           1.0   399.00\n",
       "17 2013-01-16         25     2574      399.00           1.0   399.00\n",
       "18 2013-01-26         25     2574      399.00           1.0   399.00\n",
       "19 2013-01-27         25     2574      399.00           1.0   399.00"
      ]
     },
     "execution_count": 4,
     "metadata": {},
     "output_type": "execute_result"
    }
   ],
   "source": [
    "df[\"revenue\"] = (df['item_price'] * df['item_cnt_day'])\n",
    "df.head(20)"
   ]
  },
  {
   "cell_type": "code",
   "execution_count": 5,
   "metadata": {},
   "outputs": [
    {
     "data": {
      "text/html": [
       "<div>\n",
       "<style scoped>\n",
       "    .dataframe tbody tr th:only-of-type {\n",
       "        vertical-align: middle;\n",
       "    }\n",
       "\n",
       "    .dataframe tbody tr th {\n",
       "        vertical-align: top;\n",
       "    }\n",
       "\n",
       "    .dataframe thead th {\n",
       "        text-align: right;\n",
       "    }\n",
       "</style>\n",
       "<table border=\"1\" class=\"dataframe\">\n",
       "  <thead>\n",
       "    <tr style=\"text-align: right;\">\n",
       "      <th></th>\n",
       "      <th>vendor_id</th>\n",
       "      <th>item_id</th>\n",
       "      <th>item_price</th>\n",
       "      <th>item_cnt_day</th>\n",
       "      <th>revenue</th>\n",
       "    </tr>\n",
       "  </thead>\n",
       "  <tbody>\n",
       "    <tr>\n",
       "      <th>count</th>\n",
       "      <td>421740.000000</td>\n",
       "      <td>421740.000000</td>\n",
       "      <td>421740.000000</td>\n",
       "      <td>421740.000000</td>\n",
       "      <td>4.217400e+05</td>\n",
       "    </tr>\n",
       "    <tr>\n",
       "      <th>mean</th>\n",
       "      <td>28.352340</td>\n",
       "      <td>10981.925122</td>\n",
       "      <td>773.749202</td>\n",
       "      <td>1.310516</td>\n",
       "      <td>1.071033e+03</td>\n",
       "    </tr>\n",
       "    <tr>\n",
       "      <th>std</th>\n",
       "      <td>2.979241</td>\n",
       "      <td>6214.530320</td>\n",
       "      <td>1450.502815</td>\n",
       "      <td>2.346572</td>\n",
       "      <td>5.815128e+03</td>\n",
       "    </tr>\n",
       "    <tr>\n",
       "      <th>min</th>\n",
       "      <td>25.000000</td>\n",
       "      <td>18.000000</td>\n",
       "      <td>0.100000</td>\n",
       "      <td>-2.000000</td>\n",
       "      <td>-2.799000e+04</td>\n",
       "    </tr>\n",
       "    <tr>\n",
       "      <th>25%</th>\n",
       "      <td>25.000000</td>\n",
       "      <td>5380.000000</td>\n",
       "      <td>229.000000</td>\n",
       "      <td>1.000000</td>\n",
       "      <td>2.490000e+02</td>\n",
       "    </tr>\n",
       "    <tr>\n",
       "      <th>50%</th>\n",
       "      <td>31.000000</td>\n",
       "      <td>11068.000000</td>\n",
       "      <td>399.000000</td>\n",
       "      <td>1.000000</td>\n",
       "      <td>3.990000e+02</td>\n",
       "    </tr>\n",
       "    <tr>\n",
       "      <th>75%</th>\n",
       "      <td>31.000000</td>\n",
       "      <td>16175.000000</td>\n",
       "      <td>799.000000</td>\n",
       "      <td>1.000000</td>\n",
       "      <td>9.990000e+02</td>\n",
       "    </tr>\n",
       "    <tr>\n",
       "      <th>max</th>\n",
       "      <td>31.000000</td>\n",
       "      <td>22169.000000</td>\n",
       "      <td>50999.000000</td>\n",
       "      <td>501.000000</td>\n",
       "      <td>1.642100e+06</td>\n",
       "    </tr>\n",
       "  </tbody>\n",
       "</table>\n",
       "</div>"
      ],
      "text/plain": [
       "           vendor_id        item_id     item_price   item_cnt_day  \\\n",
       "count  421740.000000  421740.000000  421740.000000  421740.000000   \n",
       "mean       28.352340   10981.925122     773.749202       1.310516   \n",
       "std         2.979241    6214.530320    1450.502815       2.346572   \n",
       "min        25.000000      18.000000       0.100000      -2.000000   \n",
       "25%        25.000000    5380.000000     229.000000       1.000000   \n",
       "50%        31.000000   11068.000000     399.000000       1.000000   \n",
       "75%        31.000000   16175.000000     799.000000       1.000000   \n",
       "max        31.000000   22169.000000   50999.000000     501.000000   \n",
       "\n",
       "            revenue  \n",
       "count  4.217400e+05  \n",
       "mean   1.071033e+03  \n",
       "std    5.815128e+03  \n",
       "min   -2.799000e+04  \n",
       "25%    2.490000e+02  \n",
       "50%    3.990000e+02  \n",
       "75%    9.990000e+02  \n",
       "max    1.642100e+06  "
      ]
     },
     "execution_count": 5,
     "metadata": {},
     "output_type": "execute_result"
    }
   ],
   "source": [
    "#filter_vendor_id = (df[\"vendor_id\"] == 25 | df[\"vendor_id\"] == 31)\n",
    "vendor25_31_df = df.loc[(df[\"vendor_id\"] == 25) | (df[\"vendor_id\"] == 31)]\n",
    "vendor25_31_df\n",
    "\n",
    "vendor25_31_df.describe()"
   ]
  },
  {
   "cell_type": "code",
   "execution_count": 6,
   "metadata": {},
   "outputs": [
    {
     "data": {
      "text/plain": [
       "True     421738\n",
       "False         2\n",
       "dtype: int64"
      ]
     },
     "execution_count": 6,
     "metadata": {},
     "output_type": "execute_result"
    }
   ],
   "source": [
    "#Check for duplicates\n",
    "vendor25_31_df.duplicated(subset=['vendor_id']).value_counts()"
   ]
  },
  {
   "cell_type": "code",
   "execution_count": 7,
   "metadata": {},
   "outputs": [
    {
     "data": {
      "text/plain": [
       "date            0\n",
       "vendor_id       0\n",
       "item_id         0\n",
       "item_price      0\n",
       "item_cnt_day    0\n",
       "revenue         0\n",
       "dtype: int64"
      ]
     },
     "execution_count": 7,
     "metadata": {},
     "output_type": "execute_result"
    }
   ],
   "source": [
    "# Check for null values\n",
    "vendor25_31_df.isna().sum()"
   ]
  },
  {
   "cell_type": "code",
   "execution_count": 8,
   "metadata": {},
   "outputs": [
    {
     "data": {
      "text/plain": [
       "date            datetime64[ns]\n",
       "vendor_id                int64\n",
       "item_id                  int64\n",
       "item_price             float64\n",
       "item_cnt_day           float64\n",
       "revenue                float64\n",
       "dtype: object"
      ]
     },
     "execution_count": 8,
     "metadata": {},
     "output_type": "execute_result"
    }
   ],
   "source": [
    "#check data types\n",
    "vendor25_31_df.dtypes"
   ]
  },
  {
   "cell_type": "code",
   "execution_count": 9,
   "metadata": {},
   "outputs": [
    {
     "data": {
      "text/plain": [
       "31    235636\n",
       "25    186104\n",
       "Name: vendor_id, dtype: int64"
      ]
     },
     "execution_count": 9,
     "metadata": {},
     "output_type": "execute_result"
    }
   ],
   "source": [
    "# Vendor_id frequency\n",
    "vendor25_31_df['vendor_id'].value_counts()"
   ]
  },
  {
   "cell_type": "code",
   "execution_count": 10,
   "metadata": {},
   "outputs": [
    {
     "data": {
      "text/plain": [
       "20949    1663\n",
       "5822      973\n",
       "17717     766\n",
       "7894      683\n",
       "2808      665\n",
       "         ... \n",
       "15726       1\n",
       "18565       1\n",
       "21007       1\n",
       "14694       1\n",
       "20559       1\n",
       "Name: item_id, Length: 16480, dtype: int64"
      ]
     },
     "execution_count": 10,
     "metadata": {},
     "output_type": "execute_result"
    }
   ],
   "source": [
    "#item_id frequency\n",
    "vendor25_31_df.item_id.value_counts()"
   ]
  },
  {
   "cell_type": "code",
   "execution_count": 11,
   "metadata": {},
   "outputs": [
    {
     "name": "stdout",
     "output_type": "stream",
     "text": [
      "Total negative item_cnt_day  767\n"
     ]
    }
   ],
   "source": [
    "# Check for item count for negative values\n",
    "total_negative_values = 0\n",
    "\n",
    "for value in vendor25_31_df['item_cnt_day']:\n",
    "    if value < 0:\n",
    "        total_negative_values += 1\n",
    "print (f\"Total negative item_cnt_day  {total_negative_values}\")   "
   ]
  },
  {
   "cell_type": "code",
   "execution_count": 12,
   "metadata": {},
   "outputs": [
    {
     "name": "stdout",
     "output_type": "stream",
     "text": [
      "Total Less than 1  item_price  0\n"
     ]
    }
   ],
   "source": [
    "# check item price for values less than 1\n",
    "total_less_than_1_values = 0\n",
    "\n",
    "for value in vendor25_31_df['item_price']:\n",
    "    if value < 0:\n",
    "        total_less_than_1_values += 1\n",
    "print (f\"Total Less than 1  item_price  {total_less_than_1_values}\")        \n"
   ]
  },
  {
   "cell_type": "markdown",
   "metadata": {},
   "source": [
    "## Create Time Series Model for Vendor 31"
   ]
  },
  {
   "cell_type": "code",
   "execution_count": 13,
   "metadata": {},
   "outputs": [
    {
     "data": {
      "text/html": [
       "<div>\n",
       "<style scoped>\n",
       "    .dataframe tbody tr th:only-of-type {\n",
       "        vertical-align: middle;\n",
       "    }\n",
       "\n",
       "    .dataframe tbody tr th {\n",
       "        vertical-align: top;\n",
       "    }\n",
       "\n",
       "    .dataframe thead th {\n",
       "        text-align: right;\n",
       "    }\n",
       "</style>\n",
       "<table border=\"1\" class=\"dataframe\">\n",
       "  <thead>\n",
       "    <tr style=\"text-align: right;\">\n",
       "      <th></th>\n",
       "      <th>date</th>\n",
       "      <th>vendor_id</th>\n",
       "      <th>item_id</th>\n",
       "      <th>item_price</th>\n",
       "      <th>item_cnt_day</th>\n",
       "      <th>revenue</th>\n",
       "    </tr>\n",
       "  </thead>\n",
       "  <tbody>\n",
       "    <tr>\n",
       "      <th>60143</th>\n",
       "      <td>2013-01-03</td>\n",
       "      <td>31</td>\n",
       "      <td>4906</td>\n",
       "      <td>1794.0</td>\n",
       "      <td>2.0</td>\n",
       "      <td>3588.0</td>\n",
       "    </tr>\n",
       "    <tr>\n",
       "      <th>60144</th>\n",
       "      <td>2013-01-02</td>\n",
       "      <td>31</td>\n",
       "      <td>4906</td>\n",
       "      <td>1789.0</td>\n",
       "      <td>1.0</td>\n",
       "      <td>1789.0</td>\n",
       "    </tr>\n",
       "    <tr>\n",
       "      <th>60145</th>\n",
       "      <td>2013-01-11</td>\n",
       "      <td>31</td>\n",
       "      <td>4890</td>\n",
       "      <td>799.0</td>\n",
       "      <td>1.0</td>\n",
       "      <td>799.0</td>\n",
       "    </tr>\n",
       "    <tr>\n",
       "      <th>60146</th>\n",
       "      <td>2013-01-26</td>\n",
       "      <td>31</td>\n",
       "      <td>4901</td>\n",
       "      <td>1499.0</td>\n",
       "      <td>1.0</td>\n",
       "      <td>1499.0</td>\n",
       "    </tr>\n",
       "    <tr>\n",
       "      <th>60147</th>\n",
       "      <td>2013-01-25</td>\n",
       "      <td>31</td>\n",
       "      <td>4901</td>\n",
       "      <td>1499.0</td>\n",
       "      <td>1.0</td>\n",
       "      <td>1499.0</td>\n",
       "    </tr>\n",
       "    <tr>\n",
       "      <th>...</th>\n",
       "      <td>...</td>\n",
       "      <td>...</td>\n",
       "      <td>...</td>\n",
       "      <td>...</td>\n",
       "      <td>...</td>\n",
       "      <td>...</td>\n",
       "    </tr>\n",
       "    <tr>\n",
       "      <th>2928767</th>\n",
       "      <td>2015-10-01</td>\n",
       "      <td>31</td>\n",
       "      <td>1540</td>\n",
       "      <td>1999.0</td>\n",
       "      <td>1.0</td>\n",
       "      <td>1999.0</td>\n",
       "    </tr>\n",
       "    <tr>\n",
       "      <th>2928768</th>\n",
       "      <td>2015-10-07</td>\n",
       "      <td>31</td>\n",
       "      <td>1540</td>\n",
       "      <td>1999.0</td>\n",
       "      <td>1.0</td>\n",
       "      <td>1999.0</td>\n",
       "    </tr>\n",
       "    <tr>\n",
       "      <th>2928769</th>\n",
       "      <td>2015-10-10</td>\n",
       "      <td>31</td>\n",
       "      <td>1540</td>\n",
       "      <td>1999.0</td>\n",
       "      <td>1.0</td>\n",
       "      <td>1999.0</td>\n",
       "    </tr>\n",
       "    <tr>\n",
       "      <th>2928770</th>\n",
       "      <td>2015-10-23</td>\n",
       "      <td>31</td>\n",
       "      <td>1484</td>\n",
       "      <td>1199.0</td>\n",
       "      <td>1.0</td>\n",
       "      <td>1199.0</td>\n",
       "    </tr>\n",
       "    <tr>\n",
       "      <th>2928772</th>\n",
       "      <td>2015-10-26</td>\n",
       "      <td>31</td>\n",
       "      <td>11466</td>\n",
       "      <td>249.0</td>\n",
       "      <td>1.0</td>\n",
       "      <td>249.0</td>\n",
       "    </tr>\n",
       "  </tbody>\n",
       "</table>\n",
       "<p>235636 rows × 6 columns</p>\n",
       "</div>"
      ],
      "text/plain": [
       "              date  vendor_id  item_id  item_price  item_cnt_day  revenue\n",
       "60143   2013-01-03         31     4906      1794.0           2.0   3588.0\n",
       "60144   2013-01-02         31     4906      1789.0           1.0   1789.0\n",
       "60145   2013-01-11         31     4890       799.0           1.0    799.0\n",
       "60146   2013-01-26         31     4901      1499.0           1.0   1499.0\n",
       "60147   2013-01-25         31     4901      1499.0           1.0   1499.0\n",
       "...            ...        ...      ...         ...           ...      ...\n",
       "2928767 2015-10-01         31     1540      1999.0           1.0   1999.0\n",
       "2928768 2015-10-07         31     1540      1999.0           1.0   1999.0\n",
       "2928769 2015-10-10         31     1540      1999.0           1.0   1999.0\n",
       "2928770 2015-10-23         31     1484      1199.0           1.0   1199.0\n",
       "2928772 2015-10-26         31    11466       249.0           1.0    249.0\n",
       "\n",
       "[235636 rows x 6 columns]"
      ]
     },
     "execution_count": 13,
     "metadata": {},
     "output_type": "execute_result"
    }
   ],
   "source": [
    "# Select data for vendor 31\n",
    "vendor31_df = df.loc[(df[\"vendor_id\"] == 31)]\n",
    "vendor31_df"
   ]
  },
  {
   "cell_type": "code",
   "execution_count": 14,
   "metadata": {},
   "outputs": [
    {
     "data": {
      "text/html": [
       "<div>\n",
       "<style scoped>\n",
       "    .dataframe tbody tr th:only-of-type {\n",
       "        vertical-align: middle;\n",
       "    }\n",
       "\n",
       "    .dataframe tbody tr th {\n",
       "        vertical-align: top;\n",
       "    }\n",
       "\n",
       "    .dataframe thead th {\n",
       "        text-align: right;\n",
       "    }\n",
       "</style>\n",
       "<table border=\"1\" class=\"dataframe\">\n",
       "  <thead>\n",
       "    <tr style=\"text-align: right;\">\n",
       "      <th></th>\n",
       "      <th>date</th>\n",
       "      <th>revenue</th>\n",
       "    </tr>\n",
       "  </thead>\n",
       "  <tbody>\n",
       "    <tr>\n",
       "      <th>60143</th>\n",
       "      <td>2013-01-03</td>\n",
       "      <td>3588.0</td>\n",
       "    </tr>\n",
       "    <tr>\n",
       "      <th>60144</th>\n",
       "      <td>2013-01-02</td>\n",
       "      <td>1789.0</td>\n",
       "    </tr>\n",
       "    <tr>\n",
       "      <th>60145</th>\n",
       "      <td>2013-01-11</td>\n",
       "      <td>799.0</td>\n",
       "    </tr>\n",
       "    <tr>\n",
       "      <th>60146</th>\n",
       "      <td>2013-01-26</td>\n",
       "      <td>1499.0</td>\n",
       "    </tr>\n",
       "    <tr>\n",
       "      <th>60147</th>\n",
       "      <td>2013-01-25</td>\n",
       "      <td>1499.0</td>\n",
       "    </tr>\n",
       "  </tbody>\n",
       "</table>\n",
       "</div>"
      ],
      "text/plain": [
       "            date  revenue\n",
       "60143 2013-01-03   3588.0\n",
       "60144 2013-01-02   1789.0\n",
       "60145 2013-01-11    799.0\n",
       "60146 2013-01-26   1499.0\n",
       "60147 2013-01-25   1499.0"
      ]
     },
     "execution_count": 14,
     "metadata": {},
     "output_type": "execute_result"
    }
   ],
   "source": [
    "df_31 = pd.DataFrame({\"date\" : vendor31_df[\"date\"],\n",
    "                     \"revenue\": vendor31_df[\"revenue\"]})\n",
    "df_31.head()"
   ]
  },
  {
   "cell_type": "code",
   "execution_count": 15,
   "metadata": {},
   "outputs": [
    {
     "data": {
      "text/plain": [
       "DatetimeIndex(['2013-01-03', '2013-01-02', '2013-01-11', '2013-01-26',\n",
       "               '2013-01-25', '2013-01-23', '2013-01-14', '2013-01-12',\n",
       "               '2013-01-11', '2013-01-08',\n",
       "               ...\n",
       "               '2015-10-25', '2015-10-02', '2015-10-21', '2015-10-24',\n",
       "               '2015-10-26', '2015-10-01', '2015-10-07', '2015-10-10',\n",
       "               '2015-10-23', '2015-10-26'],\n",
       "              dtype='datetime64[ns]', name='date', length=235636, freq=None)"
      ]
     },
     "execution_count": 15,
     "metadata": {},
     "output_type": "execute_result"
    }
   ],
   "source": [
    "df_31 = df_31.set_index(\"date\")\n",
    "df_31.index"
   ]
  },
  {
   "cell_type": "code",
   "execution_count": 16,
   "metadata": {},
   "outputs": [
    {
     "data": {
      "text/plain": [
       "date\n",
       "2013-01-31    6.334219e+06\n",
       "2013-02-28    7.033617e+06\n",
       "2013-03-31    7.977839e+06\n",
       "2013-04-30    5.618394e+06\n",
       "2013-05-31    5.230774e+06\n",
       "2013-06-30    5.563319e+06\n",
       "2013-07-31    4.886088e+06\n",
       "2013-08-31    5.096481e+06\n",
       "2013-09-30    8.763814e+06\n",
       "2013-10-31    7.587450e+06\n",
       "2013-11-30    9.652479e+06\n",
       "2013-12-31    1.405517e+07\n",
       "2014-01-31    6.456957e+06\n",
       "2014-02-28    6.586474e+06\n",
       "2014-03-31    6.997950e+06\n",
       "2014-04-30    5.939940e+06\n",
       "2014-05-31    5.999361e+06\n",
       "2014-06-30    5.216905e+06\n",
       "2014-07-31    4.692557e+06\n",
       "2014-08-31    5.763063e+06\n",
       "2014-09-30    7.982852e+06\n",
       "2014-10-31    7.233992e+06\n",
       "2014-11-30    1.042961e+07\n",
       "2014-12-31    1.570406e+07\n",
       "2015-01-31    7.476127e+06\n",
       "2015-02-28    6.269089e+06\n",
       "2015-03-31    5.964410e+06\n",
       "2015-04-30    6.298236e+06\n",
       "2015-05-31    5.835908e+06\n",
       "2015-06-30    4.858688e+06\n",
       "2015-07-31    4.511464e+06\n",
       "2015-08-31    4.413219e+06\n",
       "2015-09-30    6.760337e+06\n",
       "2015-10-31    6.026171e+06\n",
       "Freq: M, Name: revenue, dtype: float64"
      ]
     },
     "execution_count": 16,
     "metadata": {},
     "output_type": "execute_result"
    }
   ],
   "source": [
    "df_31 = df_31.revenue.resample('M').sum()\n",
    "df_31"
   ]
  },
  {
   "cell_type": "code",
   "execution_count": 17,
   "metadata": {},
   "outputs": [
    {
     "data": {
      "text/plain": [
       "<matplotlib.axes._subplots.AxesSubplot at 0x2716d4f0548>"
      ]
     },
     "execution_count": 17,
     "metadata": {},
     "output_type": "execute_result"
    },
    {
     "data": {
      "image/png": "[encoded data removed]",
      "text/plain": [
       "<Figure size 432x288 with 1 Axes>"
      ]
     },
     "metadata": {
      "needs_background": "light"
     },
     "output_type": "display_data"
    }
   ],
   "source": [
    "df_31.plot()"
   ]
  },
  {
   "cell_type": "code",
   "execution_count": 18,
   "metadata": {},
   "outputs": [
    {
     "data": {
      "text/plain": [
       "pandas.core.series.Series"
      ]
     },
     "execution_count": 18,
     "metadata": {},
     "output_type": "execute_result"
    }
   ],
   "source": [
    "type(df_31)"
   ]
  },
  {
   "cell_type": "code",
   "execution_count": 19,
   "metadata": {},
   "outputs": [
    {
     "data": {
      "text/plain": [
       "count    3.400000e+01\n",
       "mean     6.918148e+06\n",
       "std      2.461581e+06\n",
       "min      4.413219e+06\n",
       "25%      5.577087e+06\n",
       "50%      6.283662e+06\n",
       "75%      7.415593e+06\n",
       "max      1.570406e+07\n",
       "Name: revenue, dtype: float64"
      ]
     },
     "execution_count": 19,
     "metadata": {},
     "output_type": "execute_result"
    }
   ],
   "source": [
    "df_31.describe()"
   ]
  },
  {
   "cell_type": "code",
   "execution_count": 20,
   "metadata": {},
   "outputs": [
    {
     "data": {
      "text/html": [
       "<div>\n",
       "<style scoped>\n",
       "    .dataframe tbody tr th:only-of-type {\n",
       "        vertical-align: middle;\n",
       "    }\n",
       "\n",
       "    .dataframe tbody tr th {\n",
       "        vertical-align: top;\n",
       "    }\n",
       "\n",
       "    .dataframe thead th {\n",
       "        text-align: right;\n",
       "    }\n",
       "</style>\n",
       "<table border=\"1\" class=\"dataframe\">\n",
       "  <thead>\n",
       "    <tr style=\"text-align: right;\">\n",
       "      <th></th>\n",
       "      <th>revenue</th>\n",
       "    </tr>\n",
       "    <tr>\n",
       "      <th>date</th>\n",
       "      <th></th>\n",
       "    </tr>\n",
       "  </thead>\n",
       "  <tbody>\n",
       "    <tr>\n",
       "      <th>2013-01-31</th>\n",
       "      <td>6.334219e+06</td>\n",
       "    </tr>\n",
       "    <tr>\n",
       "      <th>2013-02-28</th>\n",
       "      <td>7.033617e+06</td>\n",
       "    </tr>\n",
       "    <tr>\n",
       "      <th>2013-03-31</th>\n",
       "      <td>7.977839e+06</td>\n",
       "    </tr>\n",
       "    <tr>\n",
       "      <th>2013-04-30</th>\n",
       "      <td>5.618394e+06</td>\n",
       "    </tr>\n",
       "    <tr>\n",
       "      <th>2013-05-31</th>\n",
       "      <td>5.230774e+06</td>\n",
       "    </tr>\n",
       "    <tr>\n",
       "      <th>2013-06-30</th>\n",
       "      <td>5.563319e+06</td>\n",
       "    </tr>\n",
       "    <tr>\n",
       "      <th>2013-07-31</th>\n",
       "      <td>4.886088e+06</td>\n",
       "    </tr>\n",
       "    <tr>\n",
       "      <th>2013-08-31</th>\n",
       "      <td>5.096481e+06</td>\n",
       "    </tr>\n",
       "    <tr>\n",
       "      <th>2013-09-30</th>\n",
       "      <td>8.763814e+06</td>\n",
       "    </tr>\n",
       "    <tr>\n",
       "      <th>2013-10-31</th>\n",
       "      <td>7.587450e+06</td>\n",
       "    </tr>\n",
       "    <tr>\n",
       "      <th>2013-11-30</th>\n",
       "      <td>9.652479e+06</td>\n",
       "    </tr>\n",
       "    <tr>\n",
       "      <th>2013-12-31</th>\n",
       "      <td>1.405517e+07</td>\n",
       "    </tr>\n",
       "    <tr>\n",
       "      <th>2014-01-31</th>\n",
       "      <td>6.456957e+06</td>\n",
       "    </tr>\n",
       "    <tr>\n",
       "      <th>2014-02-28</th>\n",
       "      <td>6.586474e+06</td>\n",
       "    </tr>\n",
       "    <tr>\n",
       "      <th>2014-03-31</th>\n",
       "      <td>6.997950e+06</td>\n",
       "    </tr>\n",
       "    <tr>\n",
       "      <th>2014-04-30</th>\n",
       "      <td>5.939940e+06</td>\n",
       "    </tr>\n",
       "    <tr>\n",
       "      <th>2014-05-31</th>\n",
       "      <td>5.999361e+06</td>\n",
       "    </tr>\n",
       "    <tr>\n",
       "      <th>2014-06-30</th>\n",
       "      <td>5.216905e+06</td>\n",
       "    </tr>\n",
       "    <tr>\n",
       "      <th>2014-07-31</th>\n",
       "      <td>4.692557e+06</td>\n",
       "    </tr>\n",
       "    <tr>\n",
       "      <th>2014-08-31</th>\n",
       "      <td>5.763063e+06</td>\n",
       "    </tr>\n",
       "    <tr>\n",
       "      <th>2014-09-30</th>\n",
       "      <td>7.982852e+06</td>\n",
       "    </tr>\n",
       "    <tr>\n",
       "      <th>2014-10-31</th>\n",
       "      <td>7.233992e+06</td>\n",
       "    </tr>\n",
       "    <tr>\n",
       "      <th>2014-11-30</th>\n",
       "      <td>1.042961e+07</td>\n",
       "    </tr>\n",
       "    <tr>\n",
       "      <th>2014-12-31</th>\n",
       "      <td>1.570406e+07</td>\n",
       "    </tr>\n",
       "    <tr>\n",
       "      <th>2015-01-31</th>\n",
       "      <td>7.476127e+06</td>\n",
       "    </tr>\n",
       "    <tr>\n",
       "      <th>2015-02-28</th>\n",
       "      <td>6.269089e+06</td>\n",
       "    </tr>\n",
       "    <tr>\n",
       "      <th>2015-03-31</th>\n",
       "      <td>5.964410e+06</td>\n",
       "    </tr>\n",
       "    <tr>\n",
       "      <th>2015-04-30</th>\n",
       "      <td>6.298236e+06</td>\n",
       "    </tr>\n",
       "    <tr>\n",
       "      <th>2015-05-31</th>\n",
       "      <td>5.835908e+06</td>\n",
       "    </tr>\n",
       "    <tr>\n",
       "      <th>2015-06-30</th>\n",
       "      <td>4.858688e+06</td>\n",
       "    </tr>\n",
       "    <tr>\n",
       "      <th>2015-07-31</th>\n",
       "      <td>4.511464e+06</td>\n",
       "    </tr>\n",
       "    <tr>\n",
       "      <th>2015-08-31</th>\n",
       "      <td>4.413219e+06</td>\n",
       "    </tr>\n",
       "    <tr>\n",
       "      <th>2015-09-30</th>\n",
       "      <td>6.760337e+06</td>\n",
       "    </tr>\n",
       "    <tr>\n",
       "      <th>2015-10-31</th>\n",
       "      <td>6.026171e+06</td>\n",
       "    </tr>\n",
       "  </tbody>\n",
       "</table>\n",
       "</div>"
      ],
      "text/plain": [
       "                 revenue\n",
       "date                    \n",
       "2013-01-31  6.334219e+06\n",
       "2013-02-28  7.033617e+06\n",
       "2013-03-31  7.977839e+06\n",
       "2013-04-30  5.618394e+06\n",
       "2013-05-31  5.230774e+06\n",
       "2013-06-30  5.563319e+06\n",
       "2013-07-31  4.886088e+06\n",
       "2013-08-31  5.096481e+06\n",
       "2013-09-30  8.763814e+06\n",
       "2013-10-31  7.587450e+06\n",
       "2013-11-30  9.652479e+06\n",
       "2013-12-31  1.405517e+07\n",
       "2014-01-31  6.456957e+06\n",
       "2014-02-28  6.586474e+06\n",
       "2014-03-31  6.997950e+06\n",
       "2014-04-30  5.939940e+06\n",
       "2014-05-31  5.999361e+06\n",
       "2014-06-30  5.216905e+06\n",
       "2014-07-31  4.692557e+06\n",
       "2014-08-31  5.763063e+06\n",
       "2014-09-30  7.982852e+06\n",
       "2014-10-31  7.233992e+06\n",
       "2014-11-30  1.042961e+07\n",
       "2014-12-31  1.570406e+07\n",
       "2015-01-31  7.476127e+06\n",
       "2015-02-28  6.269089e+06\n",
       "2015-03-31  5.964410e+06\n",
       "2015-04-30  6.298236e+06\n",
       "2015-05-31  5.835908e+06\n",
       "2015-06-30  4.858688e+06\n",
       "2015-07-31  4.511464e+06\n",
       "2015-08-31  4.413219e+06\n",
       "2015-09-30  6.760337e+06\n",
       "2015-10-31  6.026171e+06"
      ]
     },
     "execution_count": 20,
     "metadata": {},
     "output_type": "execute_result"
    }
   ],
   "source": [
    "time_series = pd.DataFrame(df_31)\n",
    "time_series"
   ]
  },
  {
   "cell_type": "markdown",
   "metadata": {},
   "source": [
    "## Stationary Test"
   ]
  },
  {
   "cell_type": "code",
   "execution_count": 21,
   "metadata": {},
   "outputs": [],
   "source": [
    "from statsmodels.tsa.stattools import adfuller"
   ]
  },
  {
   "cell_type": "code",
   "execution_count": 22,
   "metadata": {},
   "outputs": [],
   "source": [
    "stationary_test=adfuller(time_series['revenue'])"
   ]
  },
  {
   "cell_type": "code",
   "execution_count": 23,
   "metadata": {},
   "outputs": [
    {
     "name": "stdout",
     "output_type": "stream",
     "text": [
      "Reject the null hypothesis. Data is stationary\n",
      "ADF Test Statistic : -8.484956815024823\n",
      "p-value : 1.361170900853303e-13\n",
      "#Lags Used : 10\n",
      "Number of Observations : 23\n"
     ]
    }
   ],
   "source": [
    "def adfuller_test(revenue):\n",
    "    stationary_test=adfuller(revenue)\n",
    "    labels = ['ADF Test Statistic','p-value','#Lags Used','Number of Observations']\n",
    "    for value,label in zip(stationary_test,labels):\n",
    "        print(label+' : '+str(value) )\n",
    "\n",
    "if stationary_test[1] <= 0.05:\n",
    "    print(\"Reject the null hypothesis. Data is stationary\")\n",
    "else:\n",
    "    print(\"Data is non-stationary \")\n",
    "\n",
    "adfuller_test(time_series['revenue'])"
   ]
  },
  {
   "cell_type": "code",
   "execution_count": 24,
   "metadata": {},
   "outputs": [],
   "source": [
    "rev_diff = time_series - time_series.shift(1)"
   ]
  },
  {
   "cell_type": "code",
   "execution_count": 25,
   "metadata": {},
   "outputs": [],
   "source": [
    "rev_diff[\"second_diff\"] = rev_diff['revenue'] - rev_diff['revenue'].shift(1)"
   ]
  },
  {
   "cell_type": "code",
   "execution_count": 26,
   "metadata": {},
   "outputs": [
    {
     "data": {
      "text/html": [
       "<div>\n",
       "<style scoped>\n",
       "    .dataframe tbody tr th:only-of-type {\n",
       "        vertical-align: middle;\n",
       "    }\n",
       "\n",
       "    .dataframe tbody tr th {\n",
       "        vertical-align: top;\n",
       "    }\n",
       "\n",
       "    .dataframe thead th {\n",
       "        text-align: right;\n",
       "    }\n",
       "</style>\n",
       "<table border=\"1\" class=\"dataframe\">\n",
       "  <thead>\n",
       "    <tr style=\"text-align: right;\">\n",
       "      <th></th>\n",
       "      <th>revenue</th>\n",
       "      <th>second_diff</th>\n",
       "    </tr>\n",
       "    <tr>\n",
       "      <th>date</th>\n",
       "      <th></th>\n",
       "      <th></th>\n",
       "    </tr>\n",
       "  </thead>\n",
       "  <tbody>\n",
       "    <tr>\n",
       "      <th>2013-01-31</th>\n",
       "      <td>NaN</td>\n",
       "      <td>NaN</td>\n",
       "    </tr>\n",
       "    <tr>\n",
       "      <th>2013-02-28</th>\n",
       "      <td>6.993983e+05</td>\n",
       "      <td>NaN</td>\n",
       "    </tr>\n",
       "    <tr>\n",
       "      <th>2013-03-31</th>\n",
       "      <td>9.442222e+05</td>\n",
       "      <td>2.448239e+05</td>\n",
       "    </tr>\n",
       "    <tr>\n",
       "      <th>2013-04-30</th>\n",
       "      <td>-2.359445e+06</td>\n",
       "      <td>-3.303667e+06</td>\n",
       "    </tr>\n",
       "    <tr>\n",
       "      <th>2013-05-31</th>\n",
       "      <td>-3.876200e+05</td>\n",
       "      <td>1.971825e+06</td>\n",
       "    </tr>\n",
       "    <tr>\n",
       "      <th>2013-06-30</th>\n",
       "      <td>3.325445e+05</td>\n",
       "      <td>7.201645e+05</td>\n",
       "    </tr>\n",
       "    <tr>\n",
       "      <th>2013-07-31</th>\n",
       "      <td>-6.772308e+05</td>\n",
       "      <td>-1.009775e+06</td>\n",
       "    </tr>\n",
       "    <tr>\n",
       "      <th>2013-08-31</th>\n",
       "      <td>2.103935e+05</td>\n",
       "      <td>8.876242e+05</td>\n",
       "    </tr>\n",
       "    <tr>\n",
       "      <th>2013-09-30</th>\n",
       "      <td>3.667333e+06</td>\n",
       "      <td>3.456939e+06</td>\n",
       "    </tr>\n",
       "    <tr>\n",
       "      <th>2013-10-31</th>\n",
       "      <td>-1.176364e+06</td>\n",
       "      <td>-4.843696e+06</td>\n",
       "    </tr>\n",
       "    <tr>\n",
       "      <th>2013-11-30</th>\n",
       "      <td>2.065029e+06</td>\n",
       "      <td>3.241392e+06</td>\n",
       "    </tr>\n",
       "    <tr>\n",
       "      <th>2013-12-31</th>\n",
       "      <td>4.402694e+06</td>\n",
       "      <td>2.337666e+06</td>\n",
       "    </tr>\n",
       "    <tr>\n",
       "      <th>2014-01-31</th>\n",
       "      <td>-7.598216e+06</td>\n",
       "      <td>-1.200091e+07</td>\n",
       "    </tr>\n",
       "    <tr>\n",
       "      <th>2014-02-28</th>\n",
       "      <td>1.295164e+05</td>\n",
       "      <td>7.727732e+06</td>\n",
       "    </tr>\n",
       "    <tr>\n",
       "      <th>2014-03-31</th>\n",
       "      <td>4.114762e+05</td>\n",
       "      <td>2.819599e+05</td>\n",
       "    </tr>\n",
       "    <tr>\n",
       "      <th>2014-04-30</th>\n",
       "      <td>-1.058010e+06</td>\n",
       "      <td>-1.469486e+06</td>\n",
       "    </tr>\n",
       "    <tr>\n",
       "      <th>2014-05-31</th>\n",
       "      <td>5.942070e+04</td>\n",
       "      <td>1.117431e+06</td>\n",
       "    </tr>\n",
       "    <tr>\n",
       "      <th>2014-06-30</th>\n",
       "      <td>-7.824557e+05</td>\n",
       "      <td>-8.418764e+05</td>\n",
       "    </tr>\n",
       "    <tr>\n",
       "      <th>2014-07-31</th>\n",
       "      <td>-5.243480e+05</td>\n",
       "      <td>2.581077e+05</td>\n",
       "    </tr>\n",
       "    <tr>\n",
       "      <th>2014-08-31</th>\n",
       "      <td>1.070506e+06</td>\n",
       "      <td>1.594854e+06</td>\n",
       "    </tr>\n",
       "    <tr>\n",
       "      <th>2014-09-30</th>\n",
       "      <td>2.219790e+06</td>\n",
       "      <td>1.149284e+06</td>\n",
       "    </tr>\n",
       "    <tr>\n",
       "      <th>2014-10-31</th>\n",
       "      <td>-7.488597e+05</td>\n",
       "      <td>-2.968649e+06</td>\n",
       "    </tr>\n",
       "    <tr>\n",
       "      <th>2014-11-30</th>\n",
       "      <td>3.195620e+06</td>\n",
       "      <td>3.944480e+06</td>\n",
       "    </tr>\n",
       "    <tr>\n",
       "      <th>2014-12-31</th>\n",
       "      <td>5.274446e+06</td>\n",
       "      <td>2.078826e+06</td>\n",
       "    </tr>\n",
       "    <tr>\n",
       "      <th>2015-01-31</th>\n",
       "      <td>-8.227932e+06</td>\n",
       "      <td>-1.350238e+07</td>\n",
       "    </tr>\n",
       "    <tr>\n",
       "      <th>2015-02-28</th>\n",
       "      <td>-1.207038e+06</td>\n",
       "      <td>7.020894e+06</td>\n",
       "    </tr>\n",
       "    <tr>\n",
       "      <th>2015-03-31</th>\n",
       "      <td>-3.046789e+05</td>\n",
       "      <td>9.023593e+05</td>\n",
       "    </tr>\n",
       "    <tr>\n",
       "      <th>2015-04-30</th>\n",
       "      <td>3.338260e+05</td>\n",
       "      <td>6.385048e+05</td>\n",
       "    </tr>\n",
       "    <tr>\n",
       "      <th>2015-05-31</th>\n",
       "      <td>-4.623280e+05</td>\n",
       "      <td>-7.961540e+05</td>\n",
       "    </tr>\n",
       "    <tr>\n",
       "      <th>2015-06-30</th>\n",
       "      <td>-9.772200e+05</td>\n",
       "      <td>-5.148920e+05</td>\n",
       "    </tr>\n",
       "    <tr>\n",
       "      <th>2015-07-31</th>\n",
       "      <td>-3.472240e+05</td>\n",
       "      <td>6.299960e+05</td>\n",
       "    </tr>\n",
       "    <tr>\n",
       "      <th>2015-08-31</th>\n",
       "      <td>-9.824500e+04</td>\n",
       "      <td>2.489790e+05</td>\n",
       "    </tr>\n",
       "    <tr>\n",
       "      <th>2015-09-30</th>\n",
       "      <td>2.347118e+06</td>\n",
       "      <td>2.445363e+06</td>\n",
       "    </tr>\n",
       "    <tr>\n",
       "      <th>2015-10-31</th>\n",
       "      <td>-7.341660e+05</td>\n",
       "      <td>-3.081284e+06</td>\n",
       "    </tr>\n",
       "  </tbody>\n",
       "</table>\n",
       "</div>"
      ],
      "text/plain": [
       "                 revenue   second_diff\n",
       "date                                  \n",
       "2013-01-31           NaN           NaN\n",
       "2013-02-28  6.993983e+05           NaN\n",
       "2013-03-31  9.442222e+05  2.448239e+05\n",
       "2013-04-30 -2.359445e+06 -3.303667e+06\n",
       "2013-05-31 -3.876200e+05  1.971825e+06\n",
       "2013-06-30  3.325445e+05  7.201645e+05\n",
       "2013-07-31 -6.772308e+05 -1.009775e+06\n",
       "2013-08-31  2.103935e+05  8.876242e+05\n",
       "2013-09-30  3.667333e+06  3.456939e+06\n",
       "2013-10-31 -1.176364e+06 -4.843696e+06\n",
       "2013-11-30  2.065029e+06  3.241392e+06\n",
       "2013-12-31  4.402694e+06  2.337666e+06\n",
       "2014-01-31 -7.598216e+06 -1.200091e+07\n",
       "2014-02-28  1.295164e+05  7.727732e+06\n",
       "2014-03-31  4.114762e+05  2.819599e+05\n",
       "2014-04-30 -1.058010e+06 -1.469486e+06\n",
       "2014-05-31  5.942070e+04  1.117431e+06\n",
       "2014-06-30 -7.824557e+05 -8.418764e+05\n",
       "2014-07-31 -5.243480e+05  2.581077e+05\n",
       "2014-08-31  1.070506e+06  1.594854e+06\n",
       "2014-09-30  2.219790e+06  1.149284e+06\n",
       "2014-10-31 -7.488597e+05 -2.968649e+06\n",
       "2014-11-30  3.195620e+06  3.944480e+06\n",
       "2014-12-31  5.274446e+06  2.078826e+06\n",
       "2015-01-31 -8.227932e+06 -1.350238e+07\n",
       "2015-02-28 -1.207038e+06  7.020894e+06\n",
       "2015-03-31 -3.046789e+05  9.023593e+05\n",
       "2015-04-30  3.338260e+05  6.385048e+05\n",
       "2015-05-31 -4.623280e+05 -7.961540e+05\n",
       "2015-06-30 -9.772200e+05 -5.148920e+05\n",
       "2015-07-31 -3.472240e+05  6.299960e+05\n",
       "2015-08-31 -9.824500e+04  2.489790e+05\n",
       "2015-09-30  2.347118e+06  2.445363e+06\n",
       "2015-10-31 -7.341660e+05 -3.081284e+06"
      ]
     },
     "execution_count": 26,
     "metadata": {},
     "output_type": "execute_result"
    }
   ],
   "source": [
    "rev_diff"
   ]
  },
  {
   "cell_type": "markdown",
   "metadata": {},
   "source": [
    "### Calculate mean square error"
   ]
  },
  {
   "cell_type": "markdown",
   "metadata": {},
   "source": [
    "### Create Test and Train data"
   ]
  },
  {
   "cell_type": "code",
   "execution_count": 27,
   "metadata": {},
   "outputs": [],
   "source": [
    "#create a training dataset\n",
    "\n",
    "size = int(len(time_series) * 0.70)\n",
    "df31_train = time_series[0:size]\n"
   ]
  },
  {
   "cell_type": "code",
   "execution_count": 28,
   "metadata": {},
   "outputs": [
    {
     "data": {
      "text/plain": [
       "(23, 1)"
      ]
     },
     "execution_count": 28,
     "metadata": {},
     "output_type": "execute_result"
    }
   ],
   "source": [
    "df31_train.shape"
   ]
  },
  {
   "cell_type": "code",
   "execution_count": 29,
   "metadata": {
    "scrolled": true
   },
   "outputs": [],
   "source": [
    "#Create a Test dataset \n",
    "df31_test = time_series[size:len(time_series)]"
   ]
  },
  {
   "cell_type": "code",
   "execution_count": 30,
   "metadata": {},
   "outputs": [
    {
     "data": {
      "text/plain": [
       "(11, 1)"
      ]
     },
     "execution_count": 30,
     "metadata": {},
     "output_type": "execute_result"
    }
   ],
   "source": [
    "df31_test.shape"
   ]
  },
  {
   "cell_type": "markdown",
   "metadata": {},
   "source": [
    "### ARIMA Model"
   ]
  },
  {
   "cell_type": "code",
   "execution_count": 31,
   "metadata": {},
   "outputs": [],
   "source": [
    "from statsmodels.graphics.tsaplots import plot_acf, plot_pacf"
   ]
  },
  {
   "cell_type": "code",
   "execution_count": 32,
   "metadata": {},
   "outputs": [
    {
     "data": {
      "image/png": "[encoded data removed]",
      "text/plain": [
       "<Figure size 432x288 with 1 Axes>"
      ]
     },
     "metadata": {
      "needs_background": "light"
     },
     "output_type": "display_data"
    }
   ],
   "source": [
    "# plot acf to determine the value of the p parameter for the model \n",
    "\n",
    "first_diff = plot_acf(rev_diff['revenue'].dropna())"
   ]
  },
  {
   "cell_type": "code",
   "execution_count": 33,
   "metadata": {},
   "outputs": [
    {
     "name": "stderr",
     "output_type": "stream",
     "text": [
      "C:\\Users\\fmgri\\anaconda3\\envs\\PythonData\\lib\\site-packages\\statsmodels\\regression\\linear_model.py:1406: RuntimeWarning: invalid value encountered in sqrt\n",
      "  return rho, np.sqrt(sigmasq)\n"
     ]
    },
    {
     "data": {
      "image/png": "[encoded data removed]",
      "text/plain": [
       "<Figure size 432x288 with 1 Axes>"
      ]
     },
     "metadata": {
      "needs_background": "light"
     },
     "output_type": "display_data"
    }
   ],
   "source": [
    "# plot pacf of the second revenue difference\n",
    "sec_diff = plot_pacf(rev_diff['second_diff'].dropna())"
   ]
  },
  {
   "cell_type": "code",
   "execution_count": 34,
   "metadata": {},
   "outputs": [
    {
     "data": {
      "text/html": [
       "<table class=\"simpletable\">\n",
       "<caption>ARMA Model Results</caption>\n",
       "<tr>\n",
       "  <th>Dep. Variable:</th>      <td>revenue</td>     <th>  No. Observations:  </th>     <td>23</td>     \n",
       "</tr>\n",
       "<tr>\n",
       "  <th>Model:</th>            <td>ARMA(1, 1)</td>    <th>  Log Likelihood     </th>  <td>-366.018</td>  \n",
       "</tr>\n",
       "<tr>\n",
       "  <th>Method:</th>             <td>css-mle</td>     <th>  S.D. of innovations</th> <td>1966426.550</td>\n",
       "</tr>\n",
       "<tr>\n",
       "  <th>Date:</th>          <td>Thu, 05 Aug 2021</td> <th>  AIC                </th>   <td>740.035</td>  \n",
       "</tr>\n",
       "<tr>\n",
       "  <th>Time:</th>              <td>20:36:09</td>     <th>  BIC                </th>   <td>744.577</td>  \n",
       "</tr>\n",
       "<tr>\n",
       "  <th>Sample:</th>           <td>01-31-2013</td>    <th>  HQIC               </th>   <td>741.178</td>  \n",
       "</tr>\n",
       "<tr>\n",
       "  <th></th>                 <td>- 11-30-2014</td>   <th>                     </th>      <td> </td>     \n",
       "</tr>\n",
       "</table>\n",
       "<table class=\"simpletable\">\n",
       "<tr>\n",
       "        <td></td>           <th>coef</th>     <th>std err</th>      <th>z</th>      <th>P>|z|</th>  <th>[0.025</th>    <th>0.975]</th>  \n",
       "</tr>\n",
       "<tr>\n",
       "  <th>const</th>         <td> 7.004e+06</td> <td> 6.34e+05</td> <td>   11.040</td> <td> 0.000</td> <td> 5.76e+06</td> <td> 8.25e+06</td>\n",
       "</tr>\n",
       "<tr>\n",
       "  <th>ar.L1.revenue</th> <td>    0.3751</td> <td>    0.545</td> <td>    0.688</td> <td> 0.492</td> <td>   -0.694</td> <td>    1.444</td>\n",
       "</tr>\n",
       "<tr>\n",
       "  <th>ma.L1.revenue</th> <td>   -0.0095</td> <td>    0.595</td> <td>   -0.016</td> <td> 0.987</td> <td>   -1.175</td> <td>    1.156</td>\n",
       "</tr>\n",
       "</table>\n",
       "<table class=\"simpletable\">\n",
       "<caption>Roots</caption>\n",
       "<tr>\n",
       "    <td></td>   <th>            Real</th>  <th>         Imaginary</th> <th>         Modulus</th>  <th>        Frequency</th>\n",
       "</tr>\n",
       "<tr>\n",
       "  <th>AR.1</th> <td>           2.6662</td> <td>          +0.0000j</td> <td>           2.6662</td> <td>           0.0000</td>\n",
       "</tr>\n",
       "<tr>\n",
       "  <th>MA.1</th> <td>         105.0886</td> <td>          +0.0000j</td> <td>         105.0886</td> <td>           0.0000</td>\n",
       "</tr>\n",
       "</table>"
      ],
      "text/plain": [
       "<class 'statsmodels.iolib.summary.Summary'>\n",
       "\"\"\"\n",
       "                              ARMA Model Results                              \n",
       "==============================================================================\n",
       "Dep. Variable:                revenue   No. Observations:                   23\n",
       "Model:                     ARMA(1, 1)   Log Likelihood                -366.018\n",
       "Method:                       css-mle   S.D. of innovations        1966426.550\n",
       "Date:                Thu, 05 Aug 2021   AIC                            740.035\n",
       "Time:                        20:36:09   BIC                            744.577\n",
       "Sample:                    01-31-2013   HQIC                           741.178\n",
       "                         - 11-30-2014                                         \n",
       "=================================================================================\n",
       "                    coef    std err          z      P>|z|      [0.025      0.975]\n",
       "---------------------------------------------------------------------------------\n",
       "const          7.004e+06   6.34e+05     11.040      0.000    5.76e+06    8.25e+06\n",
       "ar.L1.revenue     0.3751      0.545      0.688      0.492      -0.694       1.444\n",
       "ma.L1.revenue    -0.0095      0.595     -0.016      0.987      -1.175       1.156\n",
       "                                    Roots                                    \n",
       "=============================================================================\n",
       "                  Real          Imaginary           Modulus         Frequency\n",
       "-----------------------------------------------------------------------------\n",
       "AR.1            2.6662           +0.0000j            2.6662            0.0000\n",
       "MA.1          105.0886           +0.0000j          105.0886            0.0000\n",
       "-----------------------------------------------------------------------------\n",
       "\"\"\""
      ]
     },
     "execution_count": 34,
     "metadata": {},
     "output_type": "execute_result"
    }
   ],
   "source": [
    "\n",
    "from statsmodels.tsa.arima_model import ARIMA \n",
    "# MODEL parameters  p=1  d=0 q=1\n",
    "revenue_model = ARIMA(df31_train, order=(1,0,1))\n",
    "\n",
    "#fit MODEL\n",
    "\n",
    "revenue_model_fit = revenue_model.fit()\n",
    "\n",
    "revenue_model_fit.summary()"
   ]
  },
  {
   "cell_type": "code",
   "execution_count": 35,
   "metadata": {},
   "outputs": [
    {
     "data": {
      "text/plain": [
       "date\n",
       "2013-01-31   -6.700992e+05\n",
       "2013-02-28    2.751134e+05\n",
       "2013-03-31    9.651501e+05\n",
       "2013-04-30   -1.741876e+06\n",
       "2013-05-31   -1.270304e+06\n",
       "2013-06-30   -7.878879e+05\n",
       "2013-07-31   -1.585255e+06\n",
       "2013-08-31   -1.128441e+06\n",
       "2013-09-30    2.464326e+06\n",
       "2013-10-31   -5.334807e+04\n",
       "2013-11-30    2.428939e+06\n",
       "2013-12-31    6.080729e+06\n",
       "2014-01-31   -3.134047e+06\n",
       "2014-02-28   -2.423697e+05\n",
       "2014-03-31    1.480457e+05\n",
       "2014-04-30   -1.060581e+06\n",
       "2014-05-31   -6.158354e+05\n",
       "2014-06-30   -1.416346e+06\n",
       "2014-07-31   -1.654837e+06\n",
       "2014-08-31   -3.899349e+05\n",
       "2014-09-30    1.440379e+06\n",
       "2014-10-31   -1.236359e+05\n",
       "2014-11-30    3.337975e+06\n",
       "Freq: M, dtype: float64"
      ]
     },
     "execution_count": 35,
     "metadata": {},
     "output_type": "execute_result"
    }
   ],
   "source": [
    "revenue_model_fit.resid"
   ]
  },
  {
   "cell_type": "code",
   "execution_count": 36,
   "metadata": {},
   "outputs": [
    {
     "data": {
      "text/plain": [
       "array([8257272.7013011 , 7474261.05289718, 7180578.49303025,\n",
       "       7070427.58257343, 7029113.50835682, 7013617.92396902,\n",
       "       7007806.02717424, 7005626.17106117, 7004808.57693632,\n",
       "       7004501.92359852, 7004386.9077652 ])"
      ]
     },
     "execution_count": 36,
     "metadata": {},
     "output_type": "execute_result"
    }
   ],
   "source": [
    "revenue_forecast = revenue_model_fit.forecast(steps=11)[0]\n",
    "revenue_forecast"
   ]
  },
  {
   "cell_type": "code",
   "execution_count": 37,
   "metadata": {},
   "outputs": [
    {
     "data": {
      "text/plain": [
       "<matplotlib.axes._subplots.AxesSubplot at 0x27179fc3b48>"
      ]
     },
     "execution_count": 37,
     "metadata": {},
     "output_type": "execute_result"
    },
    {
     "data": {
      "image/png": "[encoded data removed]",
      "text/plain": [
       "<Figure size 432x288 with 1 Axes>"
      ]
     },
     "metadata": {
      "needs_background": "light"
     },
     "output_type": "display_data"
    }
   ],
   "source": [
    "test_forecast = df31_test.copy()\n",
    "test_forecast[\"predicted\"] = revenue_forecast\n",
    "test_forecast.plot()"
   ]
  },
  {
   "cell_type": "markdown",
   "metadata": {},
   "source": [
    "## Evaluate the model "
   ]
  },
  {
   "cell_type": "code",
   "execution_count": 38,
   "metadata": {},
   "outputs": [
    {
     "data": {
      "text/plain": [
       "2662915.5784502304"
      ]
     },
     "execution_count": 38,
     "metadata": {},
     "output_type": "execute_result"
    }
   ],
   "source": [
    "from sklearn.metrics import mean_squared_error\n",
    "df31_error = mean_squared_error(test_forecast[\"revenue\"], test_forecast[\"predicted\"])\n",
    "np.sqrt(df31_error)\n"
   ]
  },
  {
   "cell_type": "markdown",
   "metadata": {},
   "source": [
    "## Forecast Dec 2015"
   ]
  },
  {
   "cell_type": "code",
   "execution_count": 43,
   "metadata": {},
   "outputs": [
    {
     "name": "stdout",
     "output_type": "stream",
     "text": [
      "December 2015 Forecasted Revenue : 7,004,327.59\n"
     ]
    }
   ],
   "source": [
    "# fit 1 month data\n",
    "revenue_forecast = revenue_model_fit.forecast(steps=13)[0]\n",
    "Dec2015_revenue = revenue_forecast\n",
    "\n",
    "print(f\"December 2015 Forecasted Revenue : {Dec2015_revenue[12]:,.2f}\")"
   ]
  },
  {
   "cell_type": "markdown",
   "metadata": {},
   "source": [
    "## Residual"
   ]
  },
  {
   "cell_type": "code",
   "execution_count": 40,
   "metadata": {},
   "outputs": [
    {
     "data": {
      "text/plain": [
       "<matplotlib.axes._subplots.AxesSubplot at 0x2717c02fe88>"
      ]
     },
     "execution_count": 40,
     "metadata": {},
     "output_type": "execute_result"
    },
    {
     "data": {
      "image/png": "[encoded data removed]",
      "text/plain": [
       "<Figure size 432x288 with 1 Axes>"
      ]
     },
     "metadata": {
      "needs_background": "light"
     },
     "output_type": "display_data"
    }
   ],
   "source": [
    "revenue_model_fit.resid.plot()"
   ]
  },
  {
   "cell_type": "code",
   "execution_count": 41,
   "metadata": {},
   "outputs": [
    {
     "data": {
      "text/plain": [
       "<matplotlib.axes._subplots.AxesSubplot at 0x2717c0dfac8>"
      ]
     },
     "execution_count": 41,
     "metadata": {},
     "output_type": "execute_result"
    },
    {
     "data": {
      "image/png": "[encoded data removed]",
      "text/plain": [
       "<Figure size 432x288 with 1 Axes>"
      ]
     },
     "metadata": {
      "needs_background": "light"
     },
     "output_type": "display_data"
    }
   ],
   "source": [
    "revenue_model_fit.resid.plot(kind='kde')"
   ]
  },
  {
   "cell_type": "code",
   "execution_count": null,
   "metadata": {},
   "outputs": [],
   "source": []
  }
 ],
 "metadata": {
  "kernelspec": {
   "display_name": "Python 3",
   "language": "python",
   "name": "python3"
  },
  "language_info": {
   "codemirror_mode": {
    "name": "ipython",
    "version": 3
   },
   "file_extension": ".py",
   "mimetype": "text/x-python",
   "name": "python",
   "nbconvert_exporter": "python",
   "pygments_lexer": "ipython3",
   "version": "3.7.6"
  }
 },
 "nbformat": 4,
 "nbformat_minor": 4
}
